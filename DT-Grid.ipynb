{
 "cells": [
  {
   "cell_type": "code",
   "execution_count": 2,
   "id": "3e9de8cf",
   "metadata": {},
   "outputs": [],
   "source": [
    "import pandas as pd\n",
    "import matplotlib.pyplot as plt\n",
    "import seaborn as sns\n",
    "import numpy as np\n",
    "from sklearn.preprocessing import StandardScaler\n",
    "from sklearn.model_selection import train_test_split\n",
    "from sklearn.preprocessing import MinMaxScaler\n",
    "import warnings\n",
    "import time\n",
    "from sklearn.linear_model import LogisticRegression\n",
    "from sklearn.tree import DecisionTreeClassifier\n",
    "from sklearn.ensemble import RandomForestClassifier"
   ]
  },
  {
   "cell_type": "code",
   "execution_count": 3,
   "id": "875f4a64",
   "metadata": {},
   "outputs": [],
   "source": [
    "from sklearn.metrics import accuracy_score\n",
    "from sklearn.metrics import classification_report\n",
    "\n",
    "from sklearn.metrics import f1_score\n",
    "from sklearn.metrics import precision_score\n",
    "from sklearn.metrics import recall_score\n",
    "from sklearn.pipeline import Pipeline\n",
    "from sklearn.model_selection import cross_validate\n",
    "\n"
   ]
  },
  {
   "cell_type": "code",
   "execution_count": 4,
   "id": "670bbf5f",
   "metadata": {},
   "outputs": [],
   "source": [
    "warnings.filterwarnings('ignore')"
   ]
  },
  {
   "cell_type": "code",
   "execution_count": 5,
   "id": "09b1ed8f",
   "metadata": {},
   "outputs": [],
   "source": [
    "df = pd.read_csv('creditcard_2023.csv')"
   ]
  },
  {
   "cell_type": "code",
   "execution_count": 6,
   "id": "daf5e305",
   "metadata": {},
   "outputs": [],
   "source": [
    "df=df.drop(['id'],axis=1)"
   ]
  },
  {
   "cell_type": "code",
   "execution_count": 7,
   "id": "d01a3b16",
   "metadata": {},
   "outputs": [],
   "source": [
    "df = df[[\"V2\", \"V4\",\"V8\", \"V11\", \"V21\",\"V27\",\"Amount\",\"Class\"]]"
   ]
  },
  {
   "cell_type": "code",
   "execution_count": 8,
   "id": "3e18d57f",
   "metadata": {},
   "outputs": [],
   "source": [
    "X = df.drop(['Class'], axis=1)\n",
    "y = df['Class']"
   ]
  },
  {
   "cell_type": "code",
   "execution_count": 9,
   "id": "5c0b3943",
   "metadata": {},
   "outputs": [],
   "source": [
    "X_train, X_test, y_train, y_test = train_test_split(X, y, test_size = 0.2,random_state=42)"
   ]
  },
  {
   "cell_type": "code",
   "execution_count": 10,
   "id": "67d7a5ef",
   "metadata": {},
   "outputs": [
    {
     "name": "stdout",
     "output_type": "stream",
     "text": [
      "Conjunto de treino : (454904, 7)\n",
      "Conjunto de treino : (113726, 7)\n"
     ]
    }
   ],
   "source": [
    "print(f'Conjunto de treino : {X_train.shape}')\n",
    "print(f'Conjunto de treino : {X_test.shape}')"
   ]
  },
  {
   "cell_type": "code",
   "execution_count": 11,
   "id": "589f9ed2",
   "metadata": {},
   "outputs": [],
   "source": [
    "sc_X = StandardScaler()\n",
    "X = sc_X.fit_transform(X_train)\n",
    "\n",
    "y = sc_X.fit_transform(np.array(y_train).reshape(-1,1))"
   ]
  },
  {
   "cell_type": "code",
   "execution_count": 12,
   "id": "7dcb7a24",
   "metadata": {},
   "outputs": [],
   "source": [
    "from sklearn.model_selection import GridSearchCV, KFold"
   ]
  },
  {
   "cell_type": "code",
   "execution_count": 13,
   "id": "5fac8f30",
   "metadata": {},
   "outputs": [],
   "source": [
    "from sklearn.metrics import make_scorer"
   ]
  },
  {
   "cell_type": "code",
   "execution_count": 14,
   "id": "a48df949",
   "metadata": {},
   "outputs": [
    {
     "data": {
      "text/html": [
       "<style>#sk-container-id-1 {color: black;}#sk-container-id-1 pre{padding: 0;}#sk-container-id-1 div.sk-toggleable {background-color: white;}#sk-container-id-1 label.sk-toggleable__label {cursor: pointer;display: block;width: 100%;margin-bottom: 0;padding: 0.3em;box-sizing: border-box;text-align: center;}#sk-container-id-1 label.sk-toggleable__label-arrow:before {content: \"▸\";float: left;margin-right: 0.25em;color: #696969;}#sk-container-id-1 label.sk-toggleable__label-arrow:hover:before {color: black;}#sk-container-id-1 div.sk-estimator:hover label.sk-toggleable__label-arrow:before {color: black;}#sk-container-id-1 div.sk-toggleable__content {max-height: 0;max-width: 0;overflow: hidden;text-align: left;background-color: #f0f8ff;}#sk-container-id-1 div.sk-toggleable__content pre {margin: 0.2em;color: black;border-radius: 0.25em;background-color: #f0f8ff;}#sk-container-id-1 input.sk-toggleable__control:checked~div.sk-toggleable__content {max-height: 200px;max-width: 100%;overflow: auto;}#sk-container-id-1 input.sk-toggleable__control:checked~label.sk-toggleable__label-arrow:before {content: \"▾\";}#sk-container-id-1 div.sk-estimator input.sk-toggleable__control:checked~label.sk-toggleable__label {background-color: #d4ebff;}#sk-container-id-1 div.sk-label input.sk-toggleable__control:checked~label.sk-toggleable__label {background-color: #d4ebff;}#sk-container-id-1 input.sk-hidden--visually {border: 0;clip: rect(1px 1px 1px 1px);clip: rect(1px, 1px, 1px, 1px);height: 1px;margin: -1px;overflow: hidden;padding: 0;position: absolute;width: 1px;}#sk-container-id-1 div.sk-estimator {font-family: monospace;background-color: #f0f8ff;border: 1px dotted black;border-radius: 0.25em;box-sizing: border-box;margin-bottom: 0.5em;}#sk-container-id-1 div.sk-estimator:hover {background-color: #d4ebff;}#sk-container-id-1 div.sk-parallel-item::after {content: \"\";width: 100%;border-bottom: 1px solid gray;flex-grow: 1;}#sk-container-id-1 div.sk-label:hover label.sk-toggleable__label {background-color: #d4ebff;}#sk-container-id-1 div.sk-serial::before {content: \"\";position: absolute;border-left: 1px solid gray;box-sizing: border-box;top: 0;bottom: 0;left: 50%;z-index: 0;}#sk-container-id-1 div.sk-serial {display: flex;flex-direction: column;align-items: center;background-color: white;padding-right: 0.2em;padding-left: 0.2em;position: relative;}#sk-container-id-1 div.sk-item {position: relative;z-index: 1;}#sk-container-id-1 div.sk-parallel {display: flex;align-items: stretch;justify-content: center;background-color: white;position: relative;}#sk-container-id-1 div.sk-item::before, #sk-container-id-1 div.sk-parallel-item::before {content: \"\";position: absolute;border-left: 1px solid gray;box-sizing: border-box;top: 0;bottom: 0;left: 50%;z-index: -1;}#sk-container-id-1 div.sk-parallel-item {display: flex;flex-direction: column;z-index: 1;position: relative;background-color: white;}#sk-container-id-1 div.sk-parallel-item:first-child::after {align-self: flex-end;width: 50%;}#sk-container-id-1 div.sk-parallel-item:last-child::after {align-self: flex-start;width: 50%;}#sk-container-id-1 div.sk-parallel-item:only-child::after {width: 0;}#sk-container-id-1 div.sk-dashed-wrapped {border: 1px dashed gray;margin: 0 0.4em 0.5em 0.4em;box-sizing: border-box;padding-bottom: 0.4em;background-color: white;}#sk-container-id-1 div.sk-label label {font-family: monospace;font-weight: bold;display: inline-block;line-height: 1.2em;}#sk-container-id-1 div.sk-label-container {text-align: center;}#sk-container-id-1 div.sk-container {/* jupyter's `normalize.less` sets `[hidden] { display: none; }` but bootstrap.min.css set `[hidden] { display: none !important; }` so we also need the `!important` here to be able to override the default hidden behavior on the sphinx rendered scikit-learn.org. See: https://github.com/scikit-learn/scikit-learn/issues/21755 */display: inline-block !important;position: relative;}#sk-container-id-1 div.sk-text-repr-fallback {display: none;}</style><div id=\"sk-container-id-1\" class=\"sk-top-container\"><div class=\"sk-text-repr-fallback\"><pre>GridSearchCV(cv=KFold(n_splits=5, random_state=42, shuffle=True),\n",
       "             estimator=DecisionTreeClassifier(),\n",
       "             param_grid={&#x27;criterion&#x27;: [&#x27;entropy&#x27;], &#x27;max_depth&#x27;: [2, 5, 10, 20]},\n",
       "             refit=&#x27;f1&#x27;, return_train_score=True,\n",
       "             scoring={&#x27;accuracy&#x27;: make_scorer(accuracy_score),\n",
       "                      &#x27;f1&#x27;: make_scorer(f1_score),\n",
       "                      &#x27;precision&#x27;: make_scorer(precision_score),\n",
       "                      &#x27;recall&#x27;: make_scorer(recall_score)})</pre><b>In a Jupyter environment, please rerun this cell to show the HTML representation or trust the notebook. <br />On GitHub, the HTML representation is unable to render, please try loading this page with nbviewer.org.</b></div><div class=\"sk-container\" hidden><div class=\"sk-item sk-dashed-wrapped\"><div class=\"sk-label-container\"><div class=\"sk-label sk-toggleable\"><input class=\"sk-toggleable__control sk-hidden--visually\" id=\"sk-estimator-id-1\" type=\"checkbox\" ><label for=\"sk-estimator-id-1\" class=\"sk-toggleable__label sk-toggleable__label-arrow\">GridSearchCV</label><div class=\"sk-toggleable__content\"><pre>GridSearchCV(cv=KFold(n_splits=5, random_state=42, shuffle=True),\n",
       "             estimator=DecisionTreeClassifier(),\n",
       "             param_grid={&#x27;criterion&#x27;: [&#x27;entropy&#x27;], &#x27;max_depth&#x27;: [2, 5, 10, 20]},\n",
       "             refit=&#x27;f1&#x27;, return_train_score=True,\n",
       "             scoring={&#x27;accuracy&#x27;: make_scorer(accuracy_score),\n",
       "                      &#x27;f1&#x27;: make_scorer(f1_score),\n",
       "                      &#x27;precision&#x27;: make_scorer(precision_score),\n",
       "                      &#x27;recall&#x27;: make_scorer(recall_score)})</pre></div></div></div><div class=\"sk-parallel\"><div class=\"sk-parallel-item\"><div class=\"sk-item\"><div class=\"sk-label-container\"><div class=\"sk-label sk-toggleable\"><input class=\"sk-toggleable__control sk-hidden--visually\" id=\"sk-estimator-id-2\" type=\"checkbox\" ><label for=\"sk-estimator-id-2\" class=\"sk-toggleable__label sk-toggleable__label-arrow\">estimator: DecisionTreeClassifier</label><div class=\"sk-toggleable__content\"><pre>DecisionTreeClassifier()</pre></div></div></div><div class=\"sk-serial\"><div class=\"sk-item\"><div class=\"sk-estimator sk-toggleable\"><input class=\"sk-toggleable__control sk-hidden--visually\" id=\"sk-estimator-id-3\" type=\"checkbox\" ><label for=\"sk-estimator-id-3\" class=\"sk-toggleable__label sk-toggleable__label-arrow\">DecisionTreeClassifier</label><div class=\"sk-toggleable__content\"><pre>DecisionTreeClassifier()</pre></div></div></div></div></div></div></div></div></div></div>"
      ],
      "text/plain": [
       "GridSearchCV(cv=KFold(n_splits=5, random_state=42, shuffle=True),\n",
       "             estimator=DecisionTreeClassifier(),\n",
       "             param_grid={'criterion': ['entropy'], 'max_depth': [2, 5, 10, 20]},\n",
       "             refit='f1', return_train_score=True,\n",
       "             scoring={'accuracy': make_scorer(accuracy_score),\n",
       "                      'f1': make_scorer(f1_score),\n",
       "                      'precision': make_scorer(precision_score),\n",
       "                      'recall': make_scorer(recall_score)})"
      ]
     },
     "execution_count": 14,
     "metadata": {},
     "output_type": "execute_result"
    }
   ],
   "source": [
    "splitter = KFold(n_splits = 5, shuffle = True, random_state = 42)\n",
    "metrica = {'accuracy' :make_scorer(accuracy_score),\n",
    "               'recall'   :make_scorer(recall_score),\n",
    "               'precision':make_scorer(precision_score),\n",
    "               'f1'       :make_scorer(f1_score)}\n",
    "\n",
    "param_grid={'criterion':['entropy'],'max_depth':[2,5,10,20]}\n",
    "\n",
    "\n",
    "DT =  DecisionTreeClassifier()\n",
    "\n",
    "\n",
    "grid_DT = GridSearchCV(estimator = DT,\n",
    "                           param_grid = param_grid,\n",
    "                           scoring = metrica,\n",
    "                           cv = splitter,\n",
    "                           refit = 'f1',return_train_score = True)\n",
    "\n",
    "grid_DT.fit(X_train, y_train) # aplicação do processo do GridSearch"
   ]
  },
  {
   "cell_type": "code",
   "execution_count": 15,
   "id": "9910b625",
   "metadata": {},
   "outputs": [
    {
     "data": {
      "text/plain": [
       "{'criterion': 'entropy', 'max_depth': 20}"
      ]
     },
     "execution_count": 15,
     "metadata": {},
     "output_type": "execute_result"
    }
   ],
   "source": [
    "grid_DT.best_params_"
   ]
  },
  {
   "cell_type": "code",
   "execution_count": 16,
   "id": "c889f1a2",
   "metadata": {},
   "outputs": [
    {
     "data": {
      "text/plain": [
       "0.9900066639224814"
      ]
     },
     "execution_count": 16,
     "metadata": {},
     "output_type": "execute_result"
    }
   ],
   "source": [
    "grid_DT.best_score_"
   ]
  },
  {
   "cell_type": "code",
   "execution_count": 17,
   "id": "94e92127",
   "metadata": {},
   "outputs": [],
   "source": [
    "Teste_DT = pd.DataFrame(grid_DT.cv_results_)"
   ]
  },
  {
   "cell_type": "code",
   "execution_count": 18,
   "id": "e8e630c2",
   "metadata": {},
   "outputs": [
    {
     "data": {
      "text/plain": [
       "['mean_fit_time',\n",
       " 'std_fit_time',\n",
       " 'mean_score_time',\n",
       " 'std_score_time',\n",
       " 'param_criterion',\n",
       " 'param_max_depth',\n",
       " 'params',\n",
       " 'split0_test_accuracy',\n",
       " 'split1_test_accuracy',\n",
       " 'split2_test_accuracy',\n",
       " 'split3_test_accuracy',\n",
       " 'split4_test_accuracy',\n",
       " 'mean_test_accuracy',\n",
       " 'std_test_accuracy',\n",
       " 'rank_test_accuracy',\n",
       " 'split0_train_accuracy',\n",
       " 'split1_train_accuracy',\n",
       " 'split2_train_accuracy',\n",
       " 'split3_train_accuracy',\n",
       " 'split4_train_accuracy',\n",
       " 'mean_train_accuracy',\n",
       " 'std_train_accuracy',\n",
       " 'split0_test_recall',\n",
       " 'split1_test_recall',\n",
       " 'split2_test_recall',\n",
       " 'split3_test_recall',\n",
       " 'split4_test_recall',\n",
       " 'mean_test_recall',\n",
       " 'std_test_recall',\n",
       " 'rank_test_recall',\n",
       " 'split0_train_recall',\n",
       " 'split1_train_recall',\n",
       " 'split2_train_recall',\n",
       " 'split3_train_recall',\n",
       " 'split4_train_recall',\n",
       " 'mean_train_recall',\n",
       " 'std_train_recall',\n",
       " 'split0_test_precision',\n",
       " 'split1_test_precision',\n",
       " 'split2_test_precision',\n",
       " 'split3_test_precision',\n",
       " 'split4_test_precision',\n",
       " 'mean_test_precision',\n",
       " 'std_test_precision',\n",
       " 'rank_test_precision',\n",
       " 'split0_train_precision',\n",
       " 'split1_train_precision',\n",
       " 'split2_train_precision',\n",
       " 'split3_train_precision',\n",
       " 'split4_train_precision',\n",
       " 'mean_train_precision',\n",
       " 'std_train_precision',\n",
       " 'split0_test_f1',\n",
       " 'split1_test_f1',\n",
       " 'split2_test_f1',\n",
       " 'split3_test_f1',\n",
       " 'split4_test_f1',\n",
       " 'mean_test_f1',\n",
       " 'std_test_f1',\n",
       " 'rank_test_f1',\n",
       " 'split0_train_f1',\n",
       " 'split1_train_f1',\n",
       " 'split2_train_f1',\n",
       " 'split3_train_f1',\n",
       " 'split4_train_f1',\n",
       " 'mean_train_f1',\n",
       " 'std_train_f1']"
      ]
     },
     "execution_count": 18,
     "metadata": {},
     "output_type": "execute_result"
    }
   ],
   "source": [
    "Teste_DT.columns.tolist()\n"
   ]
  },
  {
   "cell_type": "code",
   "execution_count": 19,
   "id": "9cad8b87",
   "metadata": {},
   "outputs": [],
   "source": [
    "Treino = Teste_DT[['params','mean_train_accuracy', 'std_train_accuracy',\n",
    "                  'mean_train_recall', 'std_train_recall','mean_train_precision', 'std_train_precision',\n",
    "                  'mean_train_f1', 'std_train_f1']]"
   ]
  },
  {
   "cell_type": "code",
   "execution_count": 20,
   "id": "7ef36d3f",
   "metadata": {},
   "outputs": [
    {
     "data": {
      "text/html": [
       "<div>\n",
       "<style scoped>\n",
       "    .dataframe tbody tr th:only-of-type {\n",
       "        vertical-align: middle;\n",
       "    }\n",
       "\n",
       "    .dataframe tbody tr th {\n",
       "        vertical-align: top;\n",
       "    }\n",
       "\n",
       "    .dataframe thead th {\n",
       "        text-align: right;\n",
       "    }\n",
       "</style>\n",
       "<table border=\"1\" class=\"dataframe\">\n",
       "  <thead>\n",
       "    <tr style=\"text-align: right;\">\n",
       "      <th></th>\n",
       "      <th>params</th>\n",
       "      <th>mean_train_accuracy</th>\n",
       "      <th>std_train_accuracy</th>\n",
       "      <th>mean_train_recall</th>\n",
       "      <th>std_train_recall</th>\n",
       "      <th>mean_train_precision</th>\n",
       "      <th>std_train_precision</th>\n",
       "      <th>mean_train_f1</th>\n",
       "      <th>std_train_f1</th>\n",
       "    </tr>\n",
       "  </thead>\n",
       "  <tbody>\n",
       "    <tr>\n",
       "      <th>0</th>\n",
       "      <td>{'criterion': 'entropy', 'max_depth': 2}</td>\n",
       "      <td>0.903529</td>\n",
       "      <td>0.000284</td>\n",
       "      <td>0.926877</td>\n",
       "      <td>0.000212</td>\n",
       "      <td>0.885446</td>\n",
       "      <td>0.000296</td>\n",
       "      <td>0.905688</td>\n",
       "      <td>0.000220</td>\n",
       "    </tr>\n",
       "    <tr>\n",
       "      <th>1</th>\n",
       "      <td>{'criterion': 'entropy', 'max_depth': 5}</td>\n",
       "      <td>0.930855</td>\n",
       "      <td>0.000829</td>\n",
       "      <td>0.912432</td>\n",
       "      <td>0.009268</td>\n",
       "      <td>0.947422</td>\n",
       "      <td>0.008232</td>\n",
       "      <td>0.929516</td>\n",
       "      <td>0.001184</td>\n",
       "    </tr>\n",
       "    <tr>\n",
       "      <th>2</th>\n",
       "      <td>{'criterion': 'entropy', 'max_depth': 10}</td>\n",
       "      <td>0.958877</td>\n",
       "      <td>0.000385</td>\n",
       "      <td>0.943790</td>\n",
       "      <td>0.002317</td>\n",
       "      <td>0.973121</td>\n",
       "      <td>0.001903</td>\n",
       "      <td>0.958227</td>\n",
       "      <td>0.000446</td>\n",
       "    </tr>\n",
       "    <tr>\n",
       "      <th>3</th>\n",
       "      <td>{'criterion': 'entropy', 'max_depth': 20}</td>\n",
       "      <td>0.997801</td>\n",
       "      <td>0.000126</td>\n",
       "      <td>0.998448</td>\n",
       "      <td>0.000248</td>\n",
       "      <td>0.997156</td>\n",
       "      <td>0.000163</td>\n",
       "      <td>0.997802</td>\n",
       "      <td>0.000126</td>\n",
       "    </tr>\n",
       "  </tbody>\n",
       "</table>\n",
       "</div>"
      ],
      "text/plain": [
       "                                      params  mean_train_accuracy  \\\n",
       "0   {'criterion': 'entropy', 'max_depth': 2}             0.903529   \n",
       "1   {'criterion': 'entropy', 'max_depth': 5}             0.930855   \n",
       "2  {'criterion': 'entropy', 'max_depth': 10}             0.958877   \n",
       "3  {'criterion': 'entropy', 'max_depth': 20}             0.997801   \n",
       "\n",
       "   std_train_accuracy  mean_train_recall  std_train_recall  \\\n",
       "0            0.000284           0.926877          0.000212   \n",
       "1            0.000829           0.912432          0.009268   \n",
       "2            0.000385           0.943790          0.002317   \n",
       "3            0.000126           0.998448          0.000248   \n",
       "\n",
       "   mean_train_precision  std_train_precision  mean_train_f1  std_train_f1  \n",
       "0              0.885446             0.000296       0.905688      0.000220  \n",
       "1              0.947422             0.008232       0.929516      0.001184  \n",
       "2              0.973121             0.001903       0.958227      0.000446  \n",
       "3              0.997156             0.000163       0.997802      0.000126  "
      ]
     },
     "execution_count": 20,
     "metadata": {},
     "output_type": "execute_result"
    }
   ],
   "source": [
    "Treino"
   ]
  },
  {
   "cell_type": "code",
   "execution_count": 21,
   "id": "36ad3f89",
   "metadata": {},
   "outputs": [],
   "source": [
    "Teste = Teste_DT[['params','mean_test_accuracy','std_test_accuracy','mean_test_recall','std_test_recall',\n",
    "          'mean_test_precision','std_test_precision',\n",
    "          'mean_test_f1','std_test_f1','mean_fit_time','std_fit_time',\n",
    " 'mean_score_time',\n",
    " 'std_score_time']]"
   ]
  },
  {
   "cell_type": "code",
   "execution_count": 22,
   "id": "ecf24fc6",
   "metadata": {},
   "outputs": [
    {
     "data": {
      "text/html": [
       "<div>\n",
       "<style scoped>\n",
       "    .dataframe tbody tr th:only-of-type {\n",
       "        vertical-align: middle;\n",
       "    }\n",
       "\n",
       "    .dataframe tbody tr th {\n",
       "        vertical-align: top;\n",
       "    }\n",
       "\n",
       "    .dataframe thead th {\n",
       "        text-align: right;\n",
       "    }\n",
       "</style>\n",
       "<table border=\"1\" class=\"dataframe\">\n",
       "  <thead>\n",
       "    <tr style=\"text-align: right;\">\n",
       "      <th></th>\n",
       "      <th>params</th>\n",
       "      <th>mean_test_accuracy</th>\n",
       "      <th>std_test_accuracy</th>\n",
       "      <th>mean_test_recall</th>\n",
       "      <th>std_test_recall</th>\n",
       "      <th>mean_test_precision</th>\n",
       "      <th>std_test_precision</th>\n",
       "      <th>mean_test_f1</th>\n",
       "      <th>std_test_f1</th>\n",
       "      <th>mean_fit_time</th>\n",
       "      <th>std_fit_time</th>\n",
       "      <th>mean_score_time</th>\n",
       "      <th>std_score_time</th>\n",
       "    </tr>\n",
       "  </thead>\n",
       "  <tbody>\n",
       "    <tr>\n",
       "      <th>0</th>\n",
       "      <td>{'criterion': 'entropy', 'max_depth': 2}</td>\n",
       "      <td>0.903470</td>\n",
       "      <td>0.000891</td>\n",
       "      <td>0.926839</td>\n",
       "      <td>0.001183</td>\n",
       "      <td>0.885376</td>\n",
       "      <td>0.000760</td>\n",
       "      <td>0.905633</td>\n",
       "      <td>0.000695</td>\n",
       "      <td>4.783544</td>\n",
       "      <td>0.409162</td>\n",
       "      <td>0.241326</td>\n",
       "      <td>0.034474</td>\n",
       "    </tr>\n",
       "    <tr>\n",
       "      <th>1</th>\n",
       "      <td>{'criterion': 'entropy', 'max_depth': 5}</td>\n",
       "      <td>0.930190</td>\n",
       "      <td>0.001317</td>\n",
       "      <td>0.912014</td>\n",
       "      <td>0.010474</td>\n",
       "      <td>0.946500</td>\n",
       "      <td>0.007611</td>\n",
       "      <td>0.928849</td>\n",
       "      <td>0.001884</td>\n",
       "      <td>10.760581</td>\n",
       "      <td>0.864071</td>\n",
       "      <td>0.212640</td>\n",
       "      <td>0.022085</td>\n",
       "    </tr>\n",
       "    <tr>\n",
       "      <th>2</th>\n",
       "      <td>{'criterion': 'entropy', 'max_depth': 10}</td>\n",
       "      <td>0.957149</td>\n",
       "      <td>0.000611</td>\n",
       "      <td>0.942314</td>\n",
       "      <td>0.001928</td>\n",
       "      <td>0.971094</td>\n",
       "      <td>0.001898</td>\n",
       "      <td>0.956484</td>\n",
       "      <td>0.000544</td>\n",
       "      <td>16.864141</td>\n",
       "      <td>1.215019</td>\n",
       "      <td>0.200785</td>\n",
       "      <td>0.023495</td>\n",
       "    </tr>\n",
       "    <tr>\n",
       "      <th>3</th>\n",
       "      <td>{'criterion': 'entropy', 'max_depth': 20}</td>\n",
       "      <td>0.989980</td>\n",
       "      <td>0.000384</td>\n",
       "      <td>0.993112</td>\n",
       "      <td>0.000773</td>\n",
       "      <td>0.986921</td>\n",
       "      <td>0.000076</td>\n",
       "      <td>0.990007</td>\n",
       "      <td>0.000382</td>\n",
       "      <td>19.032253</td>\n",
       "      <td>0.412083</td>\n",
       "      <td>0.193792</td>\n",
       "      <td>0.012264</td>\n",
       "    </tr>\n",
       "  </tbody>\n",
       "</table>\n",
       "</div>"
      ],
      "text/plain": [
       "                                      params  mean_test_accuracy  \\\n",
       "0   {'criterion': 'entropy', 'max_depth': 2}            0.903470   \n",
       "1   {'criterion': 'entropy', 'max_depth': 5}            0.930190   \n",
       "2  {'criterion': 'entropy', 'max_depth': 10}            0.957149   \n",
       "3  {'criterion': 'entropy', 'max_depth': 20}            0.989980   \n",
       "\n",
       "   std_test_accuracy  mean_test_recall  std_test_recall  mean_test_precision  \\\n",
       "0           0.000891          0.926839         0.001183             0.885376   \n",
       "1           0.001317          0.912014         0.010474             0.946500   \n",
       "2           0.000611          0.942314         0.001928             0.971094   \n",
       "3           0.000384          0.993112         0.000773             0.986921   \n",
       "\n",
       "   std_test_precision  mean_test_f1  std_test_f1  mean_fit_time  std_fit_time  \\\n",
       "0            0.000760      0.905633     0.000695       4.783544      0.409162   \n",
       "1            0.007611      0.928849     0.001884      10.760581      0.864071   \n",
       "2            0.001898      0.956484     0.000544      16.864141      1.215019   \n",
       "3            0.000076      0.990007     0.000382      19.032253      0.412083   \n",
       "\n",
       "   mean_score_time  std_score_time  \n",
       "0         0.241326        0.034474  \n",
       "1         0.212640        0.022085  \n",
       "2         0.200785        0.023495  \n",
       "3         0.193792        0.012264  "
      ]
     },
     "execution_count": 22,
     "metadata": {},
     "output_type": "execute_result"
    }
   ],
   "source": [
    "Teste"
   ]
  },
  {
   "cell_type": "code",
   "execution_count": 23,
   "id": "867d8fed",
   "metadata": {},
   "outputs": [],
   "source": [
    "Treino.to_csv('Treino2_dt')"
   ]
  },
  {
   "cell_type": "code",
   "execution_count": 24,
   "id": "45dbe7af",
   "metadata": {},
   "outputs": [],
   "source": [
    "Teste.to_csv('Teste2_dt')"
   ]
  },
  {
   "cell_type": "code",
   "execution_count": 25,
   "id": "e0a04eb5",
   "metadata": {},
   "outputs": [],
   "source": [
    "from sklearn.metrics import confusion_matrix, ConfusionMatrixDisplay"
   ]
  },
  {
   "cell_type": "code",
   "execution_count": 26,
   "id": "5ee08376",
   "metadata": {},
   "outputs": [],
   "source": [
    "y_pred= grid_DT.predict(X_test)"
   ]
  },
  {
   "cell_type": "code",
   "execution_count": 27,
   "id": "8a237d6d",
   "metadata": {},
   "outputs": [
    {
     "data": {
      "image/png": "[encoded data removed]",
      "text/plain": [
       "<Figure size 432x288 with 2 Axes>"
      ]
     },
     "metadata": {
      "needs_background": "light"
     },
     "output_type": "display_data"
    }
   ],
   "source": [
    "ConfusionMatrixDisplay(confusion_matrix=confusion_matrix(y_test, y_pred)).plot(cmap=\"Greys\")\n",
    "\n",
    "plt.show()"
   ]
  },
  {
   "cell_type": "code",
   "execution_count": null,
   "id": "0c2118cf",
   "metadata": {},
   "outputs": [],
   "source": []
  }
 ],
 "metadata": {
  "kernelspec": {
   "display_name": "Python 3",
   "language": "python",
   "name": "python3"
  },
  "language_info": {
   "codemirror_mode": {
    "name": "ipython",
    "version": 3
   },
   "file_extension": ".py",
   "mimetype": "text/x-python",
   "name": "python",
   "nbconvert_exporter": "python",
   "pygments_lexer": "ipython3",
   "version": "3.8.8"
  }
 },
 "nbformat": 4,
 "nbformat_minor": 5
}
