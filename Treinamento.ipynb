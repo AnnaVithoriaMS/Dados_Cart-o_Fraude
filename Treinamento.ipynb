{
 "cells": [
  {
   "cell_type": "code",
   "execution_count": 1,
   "id": "bd9ca978",
   "metadata": {},
   "outputs": [],
   "source": [
    "import pandas as pd\n",
    "import matplotlib.pyplot as plt\n",
    "import seaborn as sns\n",
    "import numpy as np\n",
    "from sklearn.preprocessing import StandardScaler\n",
    "from sklearn.model_selection import train_test_split\n",
    "from sklearn.neighbors import LocalOutlierFactor\n",
    "from sklearn.preprocessing import MinMaxScaler\n",
    "import warnings\n",
    "import time\n",
    "from sklearn.linear_model import LogisticRegression\n",
    "from sklearn.tree import DecisionTreeClassifier\n",
    "from sklearn.ensemble import RandomForestClassifier\n",
    "from sklearn.metrics import accuracy_score\n",
    "from sklearn.metrics import classification_report\n",
    "from sklearn.metrics import confusion_matrix\n",
    "from sklearn.metrics import f1_score\n",
    "from sklearn.metrics import precision_score\n",
    "from sklearn.metrics import recall_score\n",
    "from sklearn.pipeline import Pipeline\n",
    "from sklearn.model_selection import cross_validate\n",
    "\n",
    "from sklearn.metrics import confusion_matrix, ConfusionMatrixDisplay\n"
   ]
  },
  {
   "cell_type": "code",
   "execution_count": 2,
   "id": "23e382cc",
   "metadata": {},
   "outputs": [],
   "source": [
    "warnings.filterwarnings('ignore')"
   ]
  },
  {
   "cell_type": "code",
   "execution_count": 3,
   "id": "4c05b30a",
   "metadata": {},
   "outputs": [],
   "source": [
    "metricas = {\n",
    "    'Modelo':['Reg_Log','RandomForest','DecisionTree'],\n",
    "    'Acuracia' : [], \n",
    "    'Precisão':[], \n",
    "    'Recall': [], \n",
    "    'F-score':[],\n",
    "    'Tempo_Execução':[], \n",
    "    \n",
    "}"
   ]
  },
  {
   "cell_type": "code",
   "execution_count": 4,
   "id": "24022825",
   "metadata": {},
   "outputs": [],
   "source": [
    "def dados_metricas(metricas,y_test,y_pred,tmp_exc):\n",
    "    for c, i in metricas.items():\n",
    "        if c == 'Acuracia':\n",
    "            i.append(accuracy_score(y_test,y_pred))\n",
    "        elif c =='Precisão':\n",
    "            i.append(precision_score(y_test,y_pred))\n",
    "        elif c=='Recall':\n",
    "            i.append(recall_score(y_test,y_pred))\n",
    "        elif c=='F-score':\n",
    "            i.append(f1_score(y_test,y_pred))\n",
    "        elif c=='Tempo_Execução':\n",
    "            i.append(tmp_exc)\n"
   ]
  },
  {
   "cell_type": "code",
   "execution_count": 5,
   "id": "ad0f56dc",
   "metadata": {},
   "outputs": [],
   "source": [
    "df = pd.read_csv('creditcard_2023.csv')"
   ]
  },
  {
   "cell_type": "code",
   "execution_count": 6,
   "id": "2b3b3547",
   "metadata": {},
   "outputs": [],
   "source": [
    "df=df.drop(['id'],axis=1)"
   ]
  },
  {
   "cell_type": "code",
   "execution_count": 7,
   "id": "3e8f26ce",
   "metadata": {},
   "outputs": [],
   "source": [
    "X = df.drop(['Class'], axis=1)\n",
    "y = df['Class']"
   ]
  },
  {
   "cell_type": "code",
   "execution_count": 8,
   "id": "d42fde44",
   "metadata": {},
   "outputs": [],
   "source": [
    "X_train, X_test, y_train, y_test = train_test_split(X, y, test_size = 0.2,random_state=42)"
   ]
  },
  {
   "cell_type": "code",
   "execution_count": 9,
   "id": "b4599921",
   "metadata": {},
   "outputs": [],
   "source": [
    "sc_X = StandardScaler()\n",
    "X = sc_X.fit_transform(X_train)\n",
    "\n",
    "y = sc_X.fit_transform(np.array(y_train).reshape(-1,1))"
   ]
  },
  {
   "cell_type": "markdown",
   "id": "7acb9b4a",
   "metadata": {},
   "source": [
    "#### Reg Logistica"
   ]
  },
  {
   "cell_type": "code",
   "execution_count": 10,
   "id": "9136b266",
   "metadata": {},
   "outputs": [],
   "source": [
    "#Trenamento do modelo para C = 10\n",
    "start = time.time()\n",
    "mod_rl= LogisticRegression(C=10).fit(X_train, y_train)\n",
    "end = time.time()\n",
    "tmp_exc_1 = end-start"
   ]
  },
  {
   "cell_type": "code",
   "execution_count": 11,
   "id": "765cb469",
   "metadata": {},
   "outputs": [
    {
     "name": "stdout",
     "output_type": "stream",
     "text": [
      "              precision    recall  f1-score   support\n",
      "\n",
      "           0       0.94      0.98      0.96     56750\n",
      "           1       0.98      0.94      0.96     56976\n",
      "\n",
      "    accuracy                           0.96    113726\n",
      "   macro avg       0.96      0.96      0.96    113726\n",
      "weighted avg       0.96      0.96      0.96    113726\n",
      "\n"
     ]
    }
   ],
   "source": [
    "y_pred_rl = mod_rl.predict(X_test)\n",
    "print(classification_report(y_test,y_pred_rl)) \n"
   ]
  },
  {
   "cell_type": "code",
   "execution_count": 12,
   "id": "cbd19e03",
   "metadata": {},
   "outputs": [],
   "source": [
    "dados_metricas(metricas,y_test,y_pred_rl,tmp_exc_1)"
   ]
  },
  {
   "cell_type": "code",
   "execution_count": 13,
   "id": "309a6343",
   "metadata": {},
   "outputs": [
    {
     "data": {
      "image/png": "[encoded data removed]",
      "text/plain": [
       "<Figure size 432x288 with 2 Axes>"
      ]
     },
     "metadata": {
      "needs_background": "light"
     },
     "output_type": "display_data"
    }
   ],
   "source": [
    "ConfusionMatrixDisplay(confusion_matrix=confusion_matrix(y_test, y_pred_rl),display_labels =['Não Fraude','Fraude']).plot(cmap=\"Greys\")\n",
    "\n",
    "plt.show()"
   ]
  },
  {
   "cell_type": "code",
   "execution_count": 14,
   "id": "c59ba42a",
   "metadata": {},
   "outputs": [],
   "source": [
    "from sklearn.metrics import roc_auc_score\n",
    "auc_rf = roc_auc_score(y_test, mod_rl.predict_proba(X_test)[:, 1])"
   ]
  },
  {
   "cell_type": "code",
   "execution_count": 15,
   "id": "3eadd003",
   "metadata": {},
   "outputs": [],
   "source": [
    "y_pred_treino = mod_rl.predict(X_train)\n"
   ]
  },
  {
   "cell_type": "code",
   "execution_count": 16,
   "id": "3a8b1aae",
   "metadata": {},
   "outputs": [
    {
     "name": "stdout",
     "output_type": "stream",
     "text": [
      "              precision    recall  f1-score   support\n",
      "\n",
      "           0       0.94      0.98      0.96    227565\n",
      "           1       0.98      0.94      0.96    227339\n",
      "\n",
      "    accuracy                           0.96    454904\n",
      "   macro avg       0.96      0.96      0.96    454904\n",
      "weighted avg       0.96      0.96      0.96    454904\n",
      "\n",
      "******************** Matris de Confusão ********************\n"
     ]
    },
    {
     "data": {
      "image/png": "[encoded data removed]",
      "text/plain": [
       "<Figure size 432x288 with 2 Axes>"
      ]
     },
     "metadata": {
      "needs_background": "light"
     },
     "output_type": "display_data"
    }
   ],
   "source": [
    "print(classification_report(y_train,y_pred_treino)) \n",
    "\n",
    "print('''******************** Matris de Confusão ********************''')\n",
    "\n",
    "ConfusionMatrixDisplay(confusion_matrix=confusion_matrix(y_train, y_pred_treino), display_labels =['Não Fraude','Fraude']).plot(cmap=\"Greys\")\n",
    "\n",
    "plt.show()"
   ]
  },
  {
   "cell_type": "markdown",
   "id": "cdd7c6fe",
   "metadata": {},
   "source": [
    "#### Random Forest"
   ]
  },
  {
   "cell_type": "code",
   "execution_count": 17,
   "id": "9ae6d811",
   "metadata": {},
   "outputs": [],
   "source": [
    "\n",
    "start = time.time()\n",
    "mod_rf= RandomForestClassifier(criterion = 'entropy', max_depth = None, n_estimators = 100).fit(X_train, y_train)\n",
    "end = time.time()\n",
    "tmp_exc_2 = end-start"
   ]
  },
  {
   "cell_type": "code",
   "execution_count": 18,
   "id": "5150c2da",
   "metadata": {},
   "outputs": [
    {
     "name": "stdout",
     "output_type": "stream",
     "text": [
      "              precision    recall  f1-score   support\n",
      "\n",
      "           0       1.00      1.00      1.00     56750\n",
      "           1       1.00      1.00      1.00     56976\n",
      "\n",
      "    accuracy                           1.00    113726\n",
      "   macro avg       1.00      1.00      1.00    113726\n",
      "weighted avg       1.00      1.00      1.00    113726\n",
      "\n"
     ]
    }
   ],
   "source": [
    "y_pred_rf = mod_rf.predict(X_test)\n",
    "print(classification_report(y_test,y_pred_rf)) \n"
   ]
  },
  {
   "cell_type": "code",
   "execution_count": 19,
   "id": "d5702997",
   "metadata": {},
   "outputs": [],
   "source": [
    "dados_metricas(metricas,y_test,y_pred_rf,tmp_exc_2)"
   ]
  },
  {
   "cell_type": "code",
   "execution_count": 20,
   "id": "9a8161f5",
   "metadata": {},
   "outputs": [],
   "source": [
    "auc_rf = roc_auc_score(y_test, mod_rf.predict_proba(X_test)[:, 1])"
   ]
  },
  {
   "cell_type": "code",
   "execution_count": 21,
   "id": "74c18d3e",
   "metadata": {},
   "outputs": [
    {
     "data": {
      "image/png": "[encoded data removed]",
      "text/plain": [
       "<Figure size 432x288 with 2 Axes>"
      ]
     },
     "metadata": {
      "needs_background": "light"
     },
     "output_type": "display_data"
    }
   ],
   "source": [
    "ConfusionMatrixDisplay(confusion_matrix=confusion_matrix(y_test, y_pred_rf)).plot(cmap=\"Greys\")\n",
    "\n",
    "plt.show()"
   ]
  },
  {
   "cell_type": "code",
   "execution_count": 22,
   "id": "b4f73175",
   "metadata": {},
   "outputs": [],
   "source": [
    "y_pred_treino_rf = mod_rf.predict(X_train)"
   ]
  },
  {
   "cell_type": "code",
   "execution_count": 23,
   "id": "5704514b",
   "metadata": {},
   "outputs": [
    {
     "name": "stdout",
     "output_type": "stream",
     "text": [
      "              precision    recall  f1-score   support\n",
      "\n",
      "           0       0.94      0.98      0.96    227565\n",
      "           1       0.98      0.94      0.96    227339\n",
      "\n",
      "    accuracy                           0.96    454904\n",
      "   macro avg       0.96      0.96      0.96    454904\n",
      "weighted avg       0.96      0.96      0.96    454904\n",
      "\n",
      "******************** Matris de Confusão ********************\n"
     ]
    },
    {
     "data": {
      "image/png": "[encoded data removed]",
      "text/plain": [
       "<Figure size 432x288 with 2 Axes>"
      ]
     },
     "metadata": {
      "needs_background": "light"
     },
     "output_type": "display_data"
    }
   ],
   "source": [
    "print(classification_report(y_train,y_pred_treino)) \n",
    "\n",
    "print('''******************** Matris de Confusão ********************''')\n",
    "\n",
    "ConfusionMatrixDisplay(confusion_matrix=confusion_matrix(y_train, y_pred_treino), display_labels =['Não Fraude','Fraude']).plot(cmap=\"Greys\")\n",
    "\n",
    "plt.show()"
   ]
  },
  {
   "cell_type": "markdown",
   "id": "2b993375",
   "metadata": {},
   "source": [
    "#### Decision Tree"
   ]
  },
  {
   "cell_type": "code",
   "execution_count": 24,
   "id": "d70b7d19",
   "metadata": {},
   "outputs": [],
   "source": [
    "\n",
    "start = time.time()\n",
    "mod_dt= DecisionTreeClassifier(criterion = 'entropy', max_depth = 20).fit(X_train, y_train)\n",
    "end = time.time()\n",
    "tmp_exc_3 = end-start"
   ]
  },
  {
   "cell_type": "code",
   "execution_count": 25,
   "id": "ce8b3b45",
   "metadata": {},
   "outputs": [
    {
     "name": "stdout",
     "output_type": "stream",
     "text": [
      "              precision    recall  f1-score   support\n",
      "\n",
      "           0       1.00      1.00      1.00     56750\n",
      "           1       1.00      1.00      1.00     56976\n",
      "\n",
      "    accuracy                           1.00    113726\n",
      "   macro avg       1.00      1.00      1.00    113726\n",
      "weighted avg       1.00      1.00      1.00    113726\n",
      "\n"
     ]
    }
   ],
   "source": [
    "y_pred_dt = mod_dt.predict(X_test)\n",
    "print(classification_report(y_test,y_pred_dt)) \n"
   ]
  },
  {
   "cell_type": "code",
   "execution_count": 26,
   "id": "3b419e66",
   "metadata": {},
   "outputs": [],
   "source": [
    "dados_metricas(metricas,y_test,y_pred_dt,tmp_exc_3)"
   ]
  },
  {
   "cell_type": "code",
   "execution_count": 27,
   "id": "fc154faa",
   "metadata": {},
   "outputs": [],
   "source": [
    "auc_dt = roc_auc_score(y_test, mod_dt.predict_proba(X_test)[:, 1])"
   ]
  },
  {
   "cell_type": "code",
   "execution_count": 28,
   "id": "93fca3ac",
   "metadata": {},
   "outputs": [
    {
     "data": {
      "image/png": "[encoded data removed]",
      "text/plain": [
       "<Figure size 432x288 with 2 Axes>"
      ]
     },
     "metadata": {
      "needs_background": "light"
     },
     "output_type": "display_data"
    }
   ],
   "source": [
    "ConfusionMatrixDisplay(confusion_matrix=confusion_matrix(y_test, y_pred_dt)).plot(cmap=\"Greys\")\n",
    "\n",
    "plt.show()"
   ]
  },
  {
   "cell_type": "code",
   "execution_count": 29,
   "id": "b19ba2d4",
   "metadata": {},
   "outputs": [],
   "source": [
    "y_pred_treino_dt = mod_rf.predict(X_train)"
   ]
  },
  {
   "cell_type": "code",
   "execution_count": 30,
   "id": "231c6b59",
   "metadata": {},
   "outputs": [
    {
     "name": "stdout",
     "output_type": "stream",
     "text": [
      "              precision    recall  f1-score   support\n",
      "\n",
      "           0       0.94      0.98      0.96    227565\n",
      "           1       0.98      0.94      0.96    227339\n",
      "\n",
      "    accuracy                           0.96    454904\n",
      "   macro avg       0.96      0.96      0.96    454904\n",
      "weighted avg       0.96      0.96      0.96    454904\n",
      "\n",
      "******************** Matris de Confusão ********************\n"
     ]
    },
    {
     "data": {
      "image/png": "[encoded data removed]",
      "text/plain": [
       "<Figure size 432x288 with 2 Axes>"
      ]
     },
     "metadata": {
      "needs_background": "light"
     },
     "output_type": "display_data"
    }
   ],
   "source": [
    "print(classification_report(y_train,y_pred_treino)) \n",
    "\n",
    "print('''******************** Matris de Confusão ********************''')\n",
    "\n",
    "ConfusionMatrixDisplay(confusion_matrix=confusion_matrix(y_train, y_pred_treino), display_labels =['Não Fraude','Fraude']).plot(cmap=\"Greys\")\n",
    "\n",
    "plt.show()"
   ]
  },
  {
   "cell_type": "code",
   "execution_count": 31,
   "id": "7db5f26d",
   "metadata": {},
   "outputs": [
    {
     "data": {
      "text/plain": [
       "{'Modelo': ['Reg_Log', 'RandomForest', 'DecisionTree'],\n",
       " 'Acuracia': [0.9580570845716898, 0.9998856901675958, 0.9982765594499059],\n",
       " 'Precisão': [0.978954128440367, 0.9997718858025233, 0.9972675681356408],\n",
       " 'Recall': [0.9364118225217636, 1.0, 0.999297950014041],\n",
       " 'F-score': [0.9572105206501849, 0.999885929890756, 0.9982817266893431],\n",
       " 'Tempo_Execução': [9.639021635055542, 1500.216429233551, 113.70582866668701]}"
      ]
     },
     "execution_count": 31,
     "metadata": {},
     "output_type": "execute_result"
    }
   ],
   "source": [
    "metricas"
   ]
  },
  {
   "cell_type": "code",
   "execution_count": 32,
   "id": "dcc8384a",
   "metadata": {},
   "outputs": [
    {
     "data": {
      "image/png": "[encoded data removed]",
      "text/plain": [
       "<Figure size 432x288 with 1 Axes>"
      ]
     },
     "metadata": {
      "needs_background": "light"
     },
     "output_type": "display_data"
    }
   ],
   "source": [
    "import matplotlib.pyplot as plt\n",
    "\n",
    "from sklearn.metrics import RocCurveDisplay\n",
    "\n",
    "fig, ax = plt.subplots()\n",
    "\n",
    "models = [\n",
    "    (\"LogisticRegression -> LR\", mod_rl),\n",
    "    (\"RF\", mod_rf),\n",
    "    (\"DT\", mod_dt),\n",
    "   \n",
    "]\n",
    "\n",
    "model_displays = {}\n",
    "for name, pipeline in models:\n",
    "    model_displays[name] = RocCurveDisplay.from_estimator(\n",
    "        pipeline, X_test, y_test, ax=ax, name=name\n",
    "    )\n",
    "_ = ax.set_title(\"ROC curve\")"
   ]
  },
  {
   "cell_type": "code",
   "execution_count": 33,
   "id": "3b5a6c52",
   "metadata": {},
   "outputs": [],
   "source": [
    "auc = [auc_rf,auc_rf,auc_dt]"
   ]
  },
  {
   "cell_type": "code",
   "execution_count": 34,
   "id": "e0a041cb",
   "metadata": {},
   "outputs": [
    {
     "data": {
      "text/plain": [
       "[0.9999896433709781, 0.9999896433709781, 0.9984754383018679]"
      ]
     },
     "execution_count": 34,
     "metadata": {},
     "output_type": "execute_result"
    }
   ],
   "source": [
    "auc"
   ]
  },
  {
   "cell_type": "code",
   "execution_count": 35,
   "id": "ba1e5814",
   "metadata": {},
   "outputs": [],
   "source": [
    "metricas.update({\"AUC\": auc})"
   ]
  },
  {
   "cell_type": "code",
   "execution_count": 36,
   "id": "d4b11920",
   "metadata": {},
   "outputs": [
    {
     "data": {
      "text/plain": [
       "{'Modelo': ['Reg_Log', 'RandomForest', 'DecisionTree'],\n",
       " 'Acuracia': [0.9580570845716898, 0.9998856901675958, 0.9982765594499059],\n",
       " 'Precisão': [0.978954128440367, 0.9997718858025233, 0.9972675681356408],\n",
       " 'Recall': [0.9364118225217636, 1.0, 0.999297950014041],\n",
       " 'F-score': [0.9572105206501849, 0.999885929890756, 0.9982817266893431],\n",
       " 'Tempo_Execução': [9.639021635055542, 1500.216429233551, 113.70582866668701],\n",
       " 'AUC': [0.9999896433709781, 0.9999896433709781, 0.9984754383018679]}"
      ]
     },
     "execution_count": 36,
     "metadata": {},
     "output_type": "execute_result"
    }
   ],
   "source": [
    "metricas"
   ]
  },
  {
   "cell_type": "code",
   "execution_count": 37,
   "id": "131a10e0",
   "metadata": {},
   "outputs": [],
   "source": [
    "res = pd.DataFrame(metricas)"
   ]
  },
  {
   "cell_type": "code",
   "execution_count": 38,
   "id": "bb1aa88e",
   "metadata": {},
   "outputs": [],
   "source": [
    "res.to_csv('Test5_modelos')"
   ]
  },
  {
   "cell_type": "code",
   "execution_count": 39,
   "id": "98bdf1b6",
   "metadata": {},
   "outputs": [
    {
     "data": {
      "text/plain": [
       "<sklearn.metrics._plot.roc_curve.RocCurveDisplay at 0x21af40af580>"
      ]
     },
     "execution_count": 39,
     "metadata": {},
     "output_type": "execute_result"
    },
    {
     "data": {
      "image/png": "[encoded data removed]",
      "text/plain": [
       "<Figure size 432x288 with 1 Axes>"
      ]
     },
     "metadata": {
      "needs_background": "light"
     },
     "output_type": "display_data"
    }
   ],
   "source": [
    "RocCurveDisplay.from_estimator(mod_rl, X_test, y_test)"
   ]
  },
  {
   "cell_type": "code",
   "execution_count": 40,
   "id": "8a4b0cce",
   "metadata": {},
   "outputs": [
    {
     "data": {
      "text/plain": [
       "<sklearn.metrics._plot.roc_curve.RocCurveDisplay at 0x21a834a6d30>"
      ]
     },
     "execution_count": 40,
     "metadata": {},
     "output_type": "execute_result"
    },
    {
     "data": {
      "image/png": "[encoded data removed]",
      "text/plain": [
       "<Figure size 432x288 with 1 Axes>"
      ]
     },
     "metadata": {
      "needs_background": "light"
     },
     "output_type": "display_data"
    }
   ],
   "source": [
    "RocCurveDisplay.from_estimator(mod_rf, X_test, y_test)"
   ]
  },
  {
   "cell_type": "code",
   "execution_count": 41,
   "id": "41a061d9",
   "metadata": {},
   "outputs": [
    {
     "data": {
      "text/plain": [
       "<sklearn.metrics._plot.roc_curve.RocCurveDisplay at 0x21a834a6df0>"
      ]
     },
     "execution_count": 41,
     "metadata": {},
     "output_type": "execute_result"
    },
    {
     "data": {
      "image/png": "[encoded data removed]",
      "text/plain": [
       "<Figure size 432x288 with 1 Axes>"
      ]
     },
     "metadata": {
      "needs_background": "light"
     },
     "output_type": "display_data"
    }
   ],
   "source": [
    "RocCurveDisplay.from_estimator(mod_dt, X_test, y_test)"
   ]
  },
  {
   "cell_type": "code",
   "execution_count": 42,
   "id": "6af7704d",
   "metadata": {},
   "outputs": [],
   "source": [
    "from sklearn.metrics import (precision_recall_curve,\n",
    "                              PrecisionRecallDisplay)"
   ]
  },
  {
   "cell_type": "code",
   "execution_count": 43,
   "id": "7e3974cf",
   "metadata": {},
   "outputs": [
    {
     "data": {
      "text/plain": [
       "<sklearn.metrics._plot.precision_recall_curve.PrecisionRecallDisplay at 0x21a83700970>"
      ]
     },
     "execution_count": 43,
     "metadata": {},
     "output_type": "execute_result"
    },
    {
     "data": {
      "image/png": "[encoded data removed]",
      "text/plain": [
       "<Figure size 432x288 with 1 Axes>"
      ]
     },
     "metadata": {
      "needs_background": "light"
     },
     "output_type": "display_data"
    }
   ],
   "source": [
    "precision, recall, _ = precision_recall_curve(y_test, y_pred_rl)\n",
    "disp = PrecisionRecallDisplay(precision=precision, recall=recall)\n",
    "disp.plot()"
   ]
  },
  {
   "cell_type": "code",
   "execution_count": null,
   "id": "b82fc01f",
   "metadata": {},
   "outputs": [],
   "source": []
  }
 ],
 "metadata": {
  "kernelspec": {
   "display_name": "Python 3",
   "language": "python",
   "name": "python3"
  },
  "language_info": {
   "codemirror_mode": {
    "name": "ipython",
    "version": 3
   },
   "file_extension": ".py",
   "mimetype": "text/x-python",
   "name": "python",
   "nbconvert_exporter": "python",
   "pygments_lexer": "ipython3",
   "version": "3.8.8"
  }
 },
 "nbformat": 4,
 "nbformat_minor": 5
}
