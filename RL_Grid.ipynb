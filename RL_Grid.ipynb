{
 "cells": [
  {
   "cell_type": "code",
   "execution_count": 1,
   "id": "3e9de8cf",
   "metadata": {},
   "outputs": [],
   "source": [
    "import pandas as pd\n",
    "import matplotlib.pyplot as plt\n",
    "import seaborn as sns\n",
    "import numpy as np\n",
    "from sklearn.preprocessing import StandardScaler\n",
    "from sklearn.model_selection import train_test_split\n",
    "from sklearn.preprocessing import MinMaxScaler\n",
    "import warnings\n",
    "import time\n",
    "from sklearn.linear_model import LogisticRegression\n",
    "from sklearn.tree import DecisionTreeClassifier\n",
    "from sklearn.ensemble import RandomForestClassifier"
   ]
  },
  {
   "cell_type": "code",
   "execution_count": 2,
   "id": "875f4a64",
   "metadata": {},
   "outputs": [],
   "source": [
    "from sklearn.metrics import accuracy_score\n",
    "from sklearn.metrics import classification_report\n",
    "\n",
    "from sklearn.metrics import f1_score\n",
    "from sklearn.metrics import precision_score\n",
    "from sklearn.metrics import recall_score\n",
    "from sklearn.pipeline import Pipeline\n",
    "from sklearn.model_selection import cross_validate\n",
    "\n"
   ]
  },
  {
   "cell_type": "code",
   "execution_count": 3,
   "id": "670bbf5f",
   "metadata": {},
   "outputs": [],
   "source": [
    "warnings.filterwarnings('ignore')"
   ]
  },
  {
   "cell_type": "code",
   "execution_count": 4,
   "id": "09b1ed8f",
   "metadata": {},
   "outputs": [],
   "source": [
    "df = pd.read_csv('creditcard_2023.csv')"
   ]
  },
  {
   "cell_type": "code",
   "execution_count": 5,
   "id": "daf5e305",
   "metadata": {},
   "outputs": [],
   "source": [
    "df=df.drop(['id'],axis=1)"
   ]
  },
  {
   "cell_type": "code",
   "execution_count": 6,
   "id": "3e18d57f",
   "metadata": {},
   "outputs": [],
   "source": [
    "X = df.drop(['Class'], axis=1)\n",
    "y = df['Class']"
   ]
  },
  {
   "cell_type": "code",
   "execution_count": 7,
   "id": "5c0b3943",
   "metadata": {},
   "outputs": [],
   "source": [
    "X_train, X_test, y_train, y_test = train_test_split(X, y, test_size = 0.2,random_state=42)"
   ]
  },
  {
   "cell_type": "code",
   "execution_count": 8,
   "id": "67d7a5ef",
   "metadata": {},
   "outputs": [
    {
     "name": "stdout",
     "output_type": "stream",
     "text": [
      "Conjunto de treino : (454904, 29)\n",
      "Conjunto de treino : (113726, 29)\n"
     ]
    }
   ],
   "source": [
    "print(f'Conjunto de treino : {X_train.shape}')\n",
    "print(f'Conjunto de treino : {X_test.shape}')"
   ]
  },
  {
   "cell_type": "code",
   "execution_count": 9,
   "id": "589f9ed2",
   "metadata": {},
   "outputs": [],
   "source": [
    "sc_X = StandardScaler()\n",
    "X = sc_X.fit_transform(X_train)\n",
    "\n",
    "y = sc_X.fit_transform(np.array(y_train).reshape(-1,1))"
   ]
  },
  {
   "cell_type": "code",
   "execution_count": 10,
   "id": "7dcb7a24",
   "metadata": {},
   "outputs": [],
   "source": [
    "from sklearn.model_selection import GridSearchCV, KFold"
   ]
  },
  {
   "cell_type": "code",
   "execution_count": 11,
   "id": "5fac8f30",
   "metadata": {},
   "outputs": [],
   "source": [
    "from sklearn.metrics import make_scorer"
   ]
  },
  {
   "cell_type": "code",
   "execution_count": 12,
   "id": "a48df949",
   "metadata": {},
   "outputs": [
    {
     "data": {
      "text/html": [
       "<style>#sk-container-id-1 {color: black;}#sk-container-id-1 pre{padding: 0;}#sk-container-id-1 div.sk-toggleable {background-color: white;}#sk-container-id-1 label.sk-toggleable__label {cursor: pointer;display: block;width: 100%;margin-bottom: 0;padding: 0.3em;box-sizing: border-box;text-align: center;}#sk-container-id-1 label.sk-toggleable__label-arrow:before {content: \"▸\";float: left;margin-right: 0.25em;color: #696969;}#sk-container-id-1 label.sk-toggleable__label-arrow:hover:before {color: black;}#sk-container-id-1 div.sk-estimator:hover label.sk-toggleable__label-arrow:before {color: black;}#sk-container-id-1 div.sk-toggleable__content {max-height: 0;max-width: 0;overflow: hidden;text-align: left;background-color: #f0f8ff;}#sk-container-id-1 div.sk-toggleable__content pre {margin: 0.2em;color: black;border-radius: 0.25em;background-color: #f0f8ff;}#sk-container-id-1 input.sk-toggleable__control:checked~div.sk-toggleable__content {max-height: 200px;max-width: 100%;overflow: auto;}#sk-container-id-1 input.sk-toggleable__control:checked~label.sk-toggleable__label-arrow:before {content: \"▾\";}#sk-container-id-1 div.sk-estimator input.sk-toggleable__control:checked~label.sk-toggleable__label {background-color: #d4ebff;}#sk-container-id-1 div.sk-label input.sk-toggleable__control:checked~label.sk-toggleable__label {background-color: #d4ebff;}#sk-container-id-1 input.sk-hidden--visually {border: 0;clip: rect(1px 1px 1px 1px);clip: rect(1px, 1px, 1px, 1px);height: 1px;margin: -1px;overflow: hidden;padding: 0;position: absolute;width: 1px;}#sk-container-id-1 div.sk-estimator {font-family: monospace;background-color: #f0f8ff;border: 1px dotted black;border-radius: 0.25em;box-sizing: border-box;margin-bottom: 0.5em;}#sk-container-id-1 div.sk-estimator:hover {background-color: #d4ebff;}#sk-container-id-1 div.sk-parallel-item::after {content: \"\";width: 100%;border-bottom: 1px solid gray;flex-grow: 1;}#sk-container-id-1 div.sk-label:hover label.sk-toggleable__label {background-color: #d4ebff;}#sk-container-id-1 div.sk-serial::before {content: \"\";position: absolute;border-left: 1px solid gray;box-sizing: border-box;top: 0;bottom: 0;left: 50%;z-index: 0;}#sk-container-id-1 div.sk-serial {display: flex;flex-direction: column;align-items: center;background-color: white;padding-right: 0.2em;padding-left: 0.2em;position: relative;}#sk-container-id-1 div.sk-item {position: relative;z-index: 1;}#sk-container-id-1 div.sk-parallel {display: flex;align-items: stretch;justify-content: center;background-color: white;position: relative;}#sk-container-id-1 div.sk-item::before, #sk-container-id-1 div.sk-parallel-item::before {content: \"\";position: absolute;border-left: 1px solid gray;box-sizing: border-box;top: 0;bottom: 0;left: 50%;z-index: -1;}#sk-container-id-1 div.sk-parallel-item {display: flex;flex-direction: column;z-index: 1;position: relative;background-color: white;}#sk-container-id-1 div.sk-parallel-item:first-child::after {align-self: flex-end;width: 50%;}#sk-container-id-1 div.sk-parallel-item:last-child::after {align-self: flex-start;width: 50%;}#sk-container-id-1 div.sk-parallel-item:only-child::after {width: 0;}#sk-container-id-1 div.sk-dashed-wrapped {border: 1px dashed gray;margin: 0 0.4em 0.5em 0.4em;box-sizing: border-box;padding-bottom: 0.4em;background-color: white;}#sk-container-id-1 div.sk-label label {font-family: monospace;font-weight: bold;display: inline-block;line-height: 1.2em;}#sk-container-id-1 div.sk-label-container {text-align: center;}#sk-container-id-1 div.sk-container {/* jupyter's `normalize.less` sets `[hidden] { display: none; }` but bootstrap.min.css set `[hidden] { display: none !important; }` so we also need the `!important` here to be able to override the default hidden behavior on the sphinx rendered scikit-learn.org. See: https://github.com/scikit-learn/scikit-learn/issues/21755 */display: inline-block !important;position: relative;}#sk-container-id-1 div.sk-text-repr-fallback {display: none;}</style><div id=\"sk-container-id-1\" class=\"sk-top-container\"><div class=\"sk-text-repr-fallback\"><pre>GridSearchCV(cv=KFold(n_splits=5, random_state=42, shuffle=True),\n",
       "             estimator=LogisticRegression(),\n",
       "             param_grid={&#x27;C&#x27;: [0.1, 1, 10, 100]}, refit=&#x27;f1&#x27;,\n",
       "             return_train_score=True,\n",
       "             scoring={&#x27;accuracy&#x27;: make_scorer(accuracy_score),\n",
       "                      &#x27;f1&#x27;: make_scorer(f1_score),\n",
       "                      &#x27;precision&#x27;: make_scorer(precision_score),\n",
       "                      &#x27;recall&#x27;: make_scorer(recall_score)})</pre><b>In a Jupyter environment, please rerun this cell to show the HTML representation or trust the notebook. <br />On GitHub, the HTML representation is unable to render, please try loading this page with nbviewer.org.</b></div><div class=\"sk-container\" hidden><div class=\"sk-item sk-dashed-wrapped\"><div class=\"sk-label-container\"><div class=\"sk-label sk-toggleable\"><input class=\"sk-toggleable__control sk-hidden--visually\" id=\"sk-estimator-id-1\" type=\"checkbox\" ><label for=\"sk-estimator-id-1\" class=\"sk-toggleable__label sk-toggleable__label-arrow\">GridSearchCV</label><div class=\"sk-toggleable__content\"><pre>GridSearchCV(cv=KFold(n_splits=5, random_state=42, shuffle=True),\n",
       "             estimator=LogisticRegression(),\n",
       "             param_grid={&#x27;C&#x27;: [0.1, 1, 10, 100]}, refit=&#x27;f1&#x27;,\n",
       "             return_train_score=True,\n",
       "             scoring={&#x27;accuracy&#x27;: make_scorer(accuracy_score),\n",
       "                      &#x27;f1&#x27;: make_scorer(f1_score),\n",
       "                      &#x27;precision&#x27;: make_scorer(precision_score),\n",
       "                      &#x27;recall&#x27;: make_scorer(recall_score)})</pre></div></div></div><div class=\"sk-parallel\"><div class=\"sk-parallel-item\"><div class=\"sk-item\"><div class=\"sk-label-container\"><div class=\"sk-label sk-toggleable\"><input class=\"sk-toggleable__control sk-hidden--visually\" id=\"sk-estimator-id-2\" type=\"checkbox\" ><label for=\"sk-estimator-id-2\" class=\"sk-toggleable__label sk-toggleable__label-arrow\">estimator: LogisticRegression</label><div class=\"sk-toggleable__content\"><pre>LogisticRegression()</pre></div></div></div><div class=\"sk-serial\"><div class=\"sk-item\"><div class=\"sk-estimator sk-toggleable\"><input class=\"sk-toggleable__control sk-hidden--visually\" id=\"sk-estimator-id-3\" type=\"checkbox\" ><label for=\"sk-estimator-id-3\" class=\"sk-toggleable__label sk-toggleable__label-arrow\">LogisticRegression</label><div class=\"sk-toggleable__content\"><pre>LogisticRegression()</pre></div></div></div></div></div></div></div></div></div></div>"
      ],
      "text/plain": [
       "GridSearchCV(cv=KFold(n_splits=5, random_state=42, shuffle=True),\n",
       "             estimator=LogisticRegression(),\n",
       "             param_grid={'C': [0.1, 1, 10, 100]}, refit='f1',\n",
       "             return_train_score=True,\n",
       "             scoring={'accuracy': make_scorer(accuracy_score),\n",
       "                      'f1': make_scorer(f1_score),\n",
       "                      'precision': make_scorer(precision_score),\n",
       "                      'recall': make_scorer(recall_score)})"
      ]
     },
     "execution_count": 12,
     "metadata": {},
     "output_type": "execute_result"
    }
   ],
   "source": [
    "splitter = KFold(n_splits = 5, shuffle = True, random_state = 42)\n",
    "metrica = {'accuracy' :make_scorer(accuracy_score),\n",
    "               'recall'   :make_scorer(recall_score),\n",
    "               'precision':make_scorer(precision_score),\n",
    "               'f1'       :make_scorer(f1_score)}\n",
    "\n",
    "param_grid={'C': [0.1, 1, 10, 100]}\n",
    "\n",
    "\n",
    "LR = LogisticRegression()\n",
    "\n",
    "\n",
    "grid_LR = GridSearchCV(estimator = LR,\n",
    "                           param_grid = param_grid,\n",
    "                           scoring = metrica,\n",
    "                           cv = splitter,\n",
    "                           refit = 'f1',return_train_score = True)\n",
    "\n",
    "grid_LR.fit(X_train, y_train) # aplicação do processo do GridSearch"
   ]
  },
  {
   "cell_type": "code",
   "execution_count": 13,
   "id": "9910b625",
   "metadata": {},
   "outputs": [
    {
     "data": {
      "text/plain": [
       "{'C': 10}"
      ]
     },
     "execution_count": 13,
     "metadata": {},
     "output_type": "execute_result"
    }
   ],
   "source": [
    "grid_LR.best_params_"
   ]
  },
  {
   "cell_type": "code",
   "execution_count": 14,
   "id": "c889f1a2",
   "metadata": {},
   "outputs": [
    {
     "data": {
      "text/plain": [
       "0.9571361486458214"
      ]
     },
     "execution_count": 14,
     "metadata": {},
     "output_type": "execute_result"
    }
   ],
   "source": [
    "grid_LR.best_score_"
   ]
  },
  {
   "cell_type": "code",
   "execution_count": 15,
   "id": "94e92127",
   "metadata": {},
   "outputs": [],
   "source": [
    "Teste_LR = pd.DataFrame(grid_LR.cv_results_)"
   ]
  },
  {
   "cell_type": "code",
   "execution_count": 17,
   "id": "9cad8b87",
   "metadata": {},
   "outputs": [],
   "source": [
    "Treino = Teste_LR[['params','mean_train_accuracy', 'std_train_accuracy',\n",
    "                  'mean_train_recall', 'std_train_recall','mean_train_precision', 'std_train_precision',\n",
    "                  'mean_train_f1', 'std_train_f1']]"
   ]
  },
  {
   "cell_type": "code",
   "execution_count": 18,
   "id": "e8f1b0b4",
   "metadata": {},
   "outputs": [],
   "source": [
    "Teste = Teste_LR[['params','mean_test_accuracy','std_test_accuracy','mean_test_recall','std_test_recall',\n",
    "          'mean_test_precision','std_test_precision',\n",
    "          'mean_test_f1','std_test_f1','mean_fit_time','std_fit_time',\n",
    " 'mean_score_time',\n",
    " 'std_score_time']]"
   ]
  },
  {
   "cell_type": "code",
   "execution_count": 19,
   "id": "206e7a3d",
   "metadata": {},
   "outputs": [
    {
     "data": {
      "text/html": [
       "<div>\n",
       "<style scoped>\n",
       "    .dataframe tbody tr th:only-of-type {\n",
       "        vertical-align: middle;\n",
       "    }\n",
       "\n",
       "    .dataframe tbody tr th {\n",
       "        vertical-align: top;\n",
       "    }\n",
       "\n",
       "    .dataframe thead th {\n",
       "        text-align: right;\n",
       "    }\n",
       "</style>\n",
       "<table border=\"1\" class=\"dataframe\">\n",
       "  <thead>\n",
       "    <tr style=\"text-align: right;\">\n",
       "      <th></th>\n",
       "      <th>params</th>\n",
       "      <th>mean_train_accuracy</th>\n",
       "      <th>std_train_accuracy</th>\n",
       "      <th>mean_train_recall</th>\n",
       "      <th>std_train_recall</th>\n",
       "      <th>mean_train_precision</th>\n",
       "      <th>std_train_precision</th>\n",
       "      <th>mean_train_f1</th>\n",
       "      <th>std_train_f1</th>\n",
       "    </tr>\n",
       "  </thead>\n",
       "  <tbody>\n",
       "    <tr>\n",
       "      <th>0</th>\n",
       "      <td>{'C': 0.1}</td>\n",
       "      <td>0.955104</td>\n",
       "      <td>0.004492</td>\n",
       "      <td>0.929794</td>\n",
       "      <td>0.008655</td>\n",
       "      <td>0.979324</td>\n",
       "      <td>0.001142</td>\n",
       "      <td>0.953897</td>\n",
       "      <td>0.004815</td>\n",
       "    </tr>\n",
       "    <tr>\n",
       "      <th>1</th>\n",
       "      <td>{'C': 1}</td>\n",
       "      <td>0.957289</td>\n",
       "      <td>0.001123</td>\n",
       "      <td>0.934514</td>\n",
       "      <td>0.001495</td>\n",
       "      <td>0.979070</td>\n",
       "      <td>0.001313</td>\n",
       "      <td>0.956272</td>\n",
       "      <td>0.001154</td>\n",
       "    </tr>\n",
       "    <tr>\n",
       "      <th>2</th>\n",
       "      <td>{'C': 10}</td>\n",
       "      <td>0.958080</td>\n",
       "      <td>0.001107</td>\n",
       "      <td>0.936798</td>\n",
       "      <td>0.002319</td>\n",
       "      <td>0.978403</td>\n",
       "      <td>0.001317</td>\n",
       "      <td>0.957146</td>\n",
       "      <td>0.001184</td>\n",
       "    </tr>\n",
       "    <tr>\n",
       "      <th>3</th>\n",
       "      <td>{'C': 100}</td>\n",
       "      <td>0.957131</td>\n",
       "      <td>0.001051</td>\n",
       "      <td>0.935391</td>\n",
       "      <td>0.003354</td>\n",
       "      <td>0.977883</td>\n",
       "      <td>0.003022</td>\n",
       "      <td>0.956156</td>\n",
       "      <td>0.001126</td>\n",
       "    </tr>\n",
       "  </tbody>\n",
       "</table>\n",
       "</div>"
      ],
      "text/plain": [
       "       params  mean_train_accuracy  std_train_accuracy  mean_train_recall  \\\n",
       "0  {'C': 0.1}             0.955104            0.004492           0.929794   \n",
       "1    {'C': 1}             0.957289            0.001123           0.934514   \n",
       "2   {'C': 10}             0.958080            0.001107           0.936798   \n",
       "3  {'C': 100}             0.957131            0.001051           0.935391   \n",
       "\n",
       "   std_train_recall  mean_train_precision  std_train_precision  mean_train_f1  \\\n",
       "0          0.008655              0.979324             0.001142       0.953897   \n",
       "1          0.001495              0.979070             0.001313       0.956272   \n",
       "2          0.002319              0.978403             0.001317       0.957146   \n",
       "3          0.003354              0.977883             0.003022       0.956156   \n",
       "\n",
       "   std_train_f1  \n",
       "0      0.004815  \n",
       "1      0.001154  \n",
       "2      0.001184  \n",
       "3      0.001126  "
      ]
     },
     "execution_count": 19,
     "metadata": {},
     "output_type": "execute_result"
    }
   ],
   "source": [
    "Treino"
   ]
  },
  {
   "cell_type": "code",
   "execution_count": 20,
   "id": "6bbd737c",
   "metadata": {},
   "outputs": [
    {
     "data": {
      "text/html": [
       "<div>\n",
       "<style scoped>\n",
       "    .dataframe tbody tr th:only-of-type {\n",
       "        vertical-align: middle;\n",
       "    }\n",
       "\n",
       "    .dataframe tbody tr th {\n",
       "        vertical-align: top;\n",
       "    }\n",
       "\n",
       "    .dataframe thead th {\n",
       "        text-align: right;\n",
       "    }\n",
       "</style>\n",
       "<table border=\"1\" class=\"dataframe\">\n",
       "  <thead>\n",
       "    <tr style=\"text-align: right;\">\n",
       "      <th></th>\n",
       "      <th>params</th>\n",
       "      <th>mean_test_accuracy</th>\n",
       "      <th>std_test_accuracy</th>\n",
       "      <th>mean_test_recall</th>\n",
       "      <th>std_test_recall</th>\n",
       "      <th>mean_test_precision</th>\n",
       "      <th>std_test_precision</th>\n",
       "      <th>mean_test_f1</th>\n",
       "      <th>std_test_f1</th>\n",
       "      <th>mean_fit_time</th>\n",
       "      <th>std_fit_time</th>\n",
       "      <th>mean_score_time</th>\n",
       "      <th>std_score_time</th>\n",
       "    </tr>\n",
       "  </thead>\n",
       "  <tbody>\n",
       "    <tr>\n",
       "      <th>0</th>\n",
       "      <td>{'C': 0.1}</td>\n",
       "      <td>0.955232</td>\n",
       "      <td>0.004861</td>\n",
       "      <td>0.929965</td>\n",
       "      <td>0.009739</td>\n",
       "      <td>0.979398</td>\n",
       "      <td>0.000860</td>\n",
       "      <td>0.954016</td>\n",
       "      <td>0.005332</td>\n",
       "      <td>5.897450</td>\n",
       "      <td>1.430311</td>\n",
       "      <td>0.248663</td>\n",
       "      <td>0.014786</td>\n",
       "    </tr>\n",
       "    <tr>\n",
       "      <th>1</th>\n",
       "      <td>{'C': 1}</td>\n",
       "      <td>0.957156</td>\n",
       "      <td>0.000729</td>\n",
       "      <td>0.934371</td>\n",
       "      <td>0.000616</td>\n",
       "      <td>0.978939</td>\n",
       "      <td>0.001619</td>\n",
       "      <td>0.956135</td>\n",
       "      <td>0.000780</td>\n",
       "      <td>6.293603</td>\n",
       "      <td>0.807960</td>\n",
       "      <td>0.244112</td>\n",
       "      <td>0.017946</td>\n",
       "    </tr>\n",
       "    <tr>\n",
       "      <th>2</th>\n",
       "      <td>{'C': 10}</td>\n",
       "      <td>0.958068</td>\n",
       "      <td>0.000913</td>\n",
       "      <td>0.936768</td>\n",
       "      <td>0.001972</td>\n",
       "      <td>0.978415</td>\n",
       "      <td>0.001516</td>\n",
       "      <td>0.957136</td>\n",
       "      <td>0.000869</td>\n",
       "      <td>7.696045</td>\n",
       "      <td>1.050376</td>\n",
       "      <td>0.288010</td>\n",
       "      <td>0.016837</td>\n",
       "    </tr>\n",
       "    <tr>\n",
       "      <th>3</th>\n",
       "      <td>{'C': 100}</td>\n",
       "      <td>0.957105</td>\n",
       "      <td>0.000960</td>\n",
       "      <td>0.935334</td>\n",
       "      <td>0.003537</td>\n",
       "      <td>0.977886</td>\n",
       "      <td>0.002378</td>\n",
       "      <td>0.956128</td>\n",
       "      <td>0.001042</td>\n",
       "      <td>6.388228</td>\n",
       "      <td>0.926942</td>\n",
       "      <td>0.256826</td>\n",
       "      <td>0.010282</td>\n",
       "    </tr>\n",
       "  </tbody>\n",
       "</table>\n",
       "</div>"
      ],
      "text/plain": [
       "       params  mean_test_accuracy  std_test_accuracy  mean_test_recall  \\\n",
       "0  {'C': 0.1}            0.955232           0.004861          0.929965   \n",
       "1    {'C': 1}            0.957156           0.000729          0.934371   \n",
       "2   {'C': 10}            0.958068           0.000913          0.936768   \n",
       "3  {'C': 100}            0.957105           0.000960          0.935334   \n",
       "\n",
       "   std_test_recall  mean_test_precision  std_test_precision  mean_test_f1  \\\n",
       "0         0.009739             0.979398            0.000860      0.954016   \n",
       "1         0.000616             0.978939            0.001619      0.956135   \n",
       "2         0.001972             0.978415            0.001516      0.957136   \n",
       "3         0.003537             0.977886            0.002378      0.956128   \n",
       "\n",
       "   std_test_f1  mean_fit_time  std_fit_time  mean_score_time  std_score_time  \n",
       "0     0.005332       5.897450      1.430311         0.248663        0.014786  \n",
       "1     0.000780       6.293603      0.807960         0.244112        0.017946  \n",
       "2     0.000869       7.696045      1.050376         0.288010        0.016837  \n",
       "3     0.001042       6.388228      0.926942         0.256826        0.010282  "
      ]
     },
     "execution_count": 20,
     "metadata": {},
     "output_type": "execute_result"
    }
   ],
   "source": [
    "Teste"
   ]
  },
  {
   "cell_type": "code",
   "execution_count": 21,
   "id": "7e4d61e3",
   "metadata": {},
   "outputs": [],
   "source": [
    "Treino.to_csv('Treino2_RL')"
   ]
  },
  {
   "cell_type": "code",
   "execution_count": 22,
   "id": "243f0968",
   "metadata": {},
   "outputs": [],
   "source": [
    "Teste.to_csv('Teste2_RL')"
   ]
  },
  {
   "cell_type": "code",
   "execution_count": 23,
   "id": "565cb8d7",
   "metadata": {},
   "outputs": [],
   "source": [
    "y_pred= grid_LR.predict(X_test)"
   ]
  },
  {
   "cell_type": "code",
   "execution_count": 24,
   "id": "b0eeaaaf",
   "metadata": {},
   "outputs": [],
   "source": [
    "from sklearn.metrics import confusion_matrix, ConfusionMatrixDisplay"
   ]
  },
  {
   "cell_type": "code",
   "execution_count": 25,
   "id": "f454579c",
   "metadata": {},
   "outputs": [
    {
     "data": {
      "image/png": "[encoded data removed]",
      "text/plain": [
       "<Figure size 432x288 with 2 Axes>"
      ]
     },
     "metadata": {
      "needs_background": "light"
     },
     "output_type": "display_data"
    }
   ],
   "source": [
    "ConfusionMatrixDisplay(confusion_matrix=confusion_matrix(y_test, y_pred)).plot(cmap=\"Greys\")\n",
    "\n",
    "plt.show()"
   ]
  },
  {
   "cell_type": "code",
   "execution_count": 26,
   "id": "fcde78eb",
   "metadata": {},
   "outputs": [
    {
     "name": "stdout",
     "output_type": "stream",
     "text": [
      "              precision    recall  f1-score   support\n",
      "\n",
      "           0       0.94      0.98      0.96     56750\n",
      "           1       0.98      0.94      0.96     56976\n",
      "\n",
      "    accuracy                           0.96    113726\n",
      "   macro avg       0.96      0.96      0.96    113726\n",
      "weighted avg       0.96      0.96      0.96    113726\n",
      "\n"
     ]
    }
   ],
   "source": [
    "print(classification_report(y_test,y_pred))"
   ]
  },
  {
   "cell_type": "code",
   "execution_count": null,
   "id": "18c413ab",
   "metadata": {},
   "outputs": [],
   "source": []
  }
 ],
 "metadata": {
  "kernelspec": {
   "display_name": "Python 3",
   "language": "python",
   "name": "python3"
  },
  "language_info": {
   "codemirror_mode": {
    "name": "ipython",
    "version": 3
   },
   "file_extension": ".py",
   "mimetype": "text/x-python",
   "name": "python",
   "nbconvert_exporter": "python",
   "pygments_lexer": "ipython3",
   "version": "3.8.8"
  }
 },
 "nbformat": 4,
 "nbformat_minor": 5
}
