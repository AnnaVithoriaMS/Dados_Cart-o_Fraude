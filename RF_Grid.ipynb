{
 "cells": [
  {
   "cell_type": "code",
   "execution_count": 1,
   "id": "3e9de8cf",
   "metadata": {},
   "outputs": [],
   "source": [
    "import pandas as pd\n",
    "import matplotlib.pyplot as plt\n",
    "import seaborn as sns\n",
    "import numpy as np\n",
    "from sklearn.preprocessing import StandardScaler\n",
    "from sklearn.model_selection import train_test_split\n",
    "from sklearn.preprocessing import MinMaxScaler\n",
    "import warnings\n",
    "import time\n",
    "from sklearn.linear_model import LogisticRegression\n",
    "from sklearn.tree import DecisionTreeClassifier\n",
    "from sklearn.ensemble import RandomForestClassifier"
   ]
  },
  {
   "cell_type": "code",
   "execution_count": 2,
   "id": "875f4a64",
   "metadata": {},
   "outputs": [],
   "source": [
    "from sklearn.metrics import accuracy_score\n",
    "from sklearn.metrics import classification_report\n",
    "from sklearn.metrics import confusion_matrix, ConfusionMatrixDisplay\n",
    "from sklearn.metrics import f1_score\n",
    "from sklearn.metrics import precision_score\n",
    "from sklearn.metrics import recall_score\n",
    "from sklearn.pipeline import Pipeline\n",
    "from sklearn.model_selection import cross_validate\n",
    "\n"
   ]
  },
  {
   "cell_type": "code",
   "execution_count": 3,
   "id": "670bbf5f",
   "metadata": {},
   "outputs": [],
   "source": [
    "warnings.filterwarnings('ignore')"
   ]
  },
  {
   "cell_type": "code",
   "execution_count": 4,
   "id": "09b1ed8f",
   "metadata": {},
   "outputs": [],
   "source": [
    "df = pd.read_csv('creditcard_2023.csv')"
   ]
  },
  {
   "cell_type": "code",
   "execution_count": 5,
   "id": "daf5e305",
   "metadata": {},
   "outputs": [],
   "source": [
    "df=df.drop(['id'],axis=1)"
   ]
  },
  {
   "cell_type": "code",
   "execution_count": 6,
   "id": "270a1d83",
   "metadata": {},
   "outputs": [],
   "source": [
    "df = df[[\"V2\", \"V4\",\"V8\", \"V11\", \"V21\",\"V27\",\"Amount\",\"Class\"]]"
   ]
  },
  {
   "cell_type": "code",
   "execution_count": 7,
   "id": "3e18d57f",
   "metadata": {},
   "outputs": [],
   "source": [
    "X = df.drop(['Class'], axis=1)\n",
    "y = df['Class']"
   ]
  },
  {
   "cell_type": "code",
   "execution_count": 8,
   "id": "5c0b3943",
   "metadata": {},
   "outputs": [],
   "source": [
    "X_train, X_test, y_train, y_test = train_test_split(X, y, test_size = 0.2,random_state=42)"
   ]
  },
  {
   "cell_type": "code",
   "execution_count": 9,
   "id": "67d7a5ef",
   "metadata": {},
   "outputs": [
    {
     "name": "stdout",
     "output_type": "stream",
     "text": [
      "Conjunto de treino : (454904, 7)\n",
      "Conjunto de treino : (113726, 7)\n"
     ]
    }
   ],
   "source": [
    "print(f'Conjunto de treino : {X_train.shape}')\n",
    "print(f'Conjunto de treino : {X_test.shape}')"
   ]
  },
  {
   "cell_type": "code",
   "execution_count": 10,
   "id": "589f9ed2",
   "metadata": {},
   "outputs": [],
   "source": [
    "sc_X = StandardScaler()\n",
    "X = sc_X.fit_transform(X_train)\n",
    "\n",
    "y = sc_X.fit_transform(np.array(y_train).reshape(-1,1))"
   ]
  },
  {
   "cell_type": "code",
   "execution_count": 11,
   "id": "7dcb7a24",
   "metadata": {},
   "outputs": [],
   "source": [
    "from sklearn.model_selection import GridSearchCV, KFold"
   ]
  },
  {
   "cell_type": "code",
   "execution_count": 12,
   "id": "5fac8f30",
   "metadata": {},
   "outputs": [],
   "source": [
    "from sklearn.metrics import make_scorer"
   ]
  },
  {
   "cell_type": "code",
   "execution_count": 13,
   "id": "a48df949",
   "metadata": {},
   "outputs": [
    {
     "data": {
      "text/html": [
       "<style>#sk-container-id-1 {color: black;}#sk-container-id-1 pre{padding: 0;}#sk-container-id-1 div.sk-toggleable {background-color: white;}#sk-container-id-1 label.sk-toggleable__label {cursor: pointer;display: block;width: 100%;margin-bottom: 0;padding: 0.3em;box-sizing: border-box;text-align: center;}#sk-container-id-1 label.sk-toggleable__label-arrow:before {content: \"▸\";float: left;margin-right: 0.25em;color: #696969;}#sk-container-id-1 label.sk-toggleable__label-arrow:hover:before {color: black;}#sk-container-id-1 div.sk-estimator:hover label.sk-toggleable__label-arrow:before {color: black;}#sk-container-id-1 div.sk-toggleable__content {max-height: 0;max-width: 0;overflow: hidden;text-align: left;background-color: #f0f8ff;}#sk-container-id-1 div.sk-toggleable__content pre {margin: 0.2em;color: black;border-radius: 0.25em;background-color: #f0f8ff;}#sk-container-id-1 input.sk-toggleable__control:checked~div.sk-toggleable__content {max-height: 200px;max-width: 100%;overflow: auto;}#sk-container-id-1 input.sk-toggleable__control:checked~label.sk-toggleable__label-arrow:before {content: \"▾\";}#sk-container-id-1 div.sk-estimator input.sk-toggleable__control:checked~label.sk-toggleable__label {background-color: #d4ebff;}#sk-container-id-1 div.sk-label input.sk-toggleable__control:checked~label.sk-toggleable__label {background-color: #d4ebff;}#sk-container-id-1 input.sk-hidden--visually {border: 0;clip: rect(1px 1px 1px 1px);clip: rect(1px, 1px, 1px, 1px);height: 1px;margin: -1px;overflow: hidden;padding: 0;position: absolute;width: 1px;}#sk-container-id-1 div.sk-estimator {font-family: monospace;background-color: #f0f8ff;border: 1px dotted black;border-radius: 0.25em;box-sizing: border-box;margin-bottom: 0.5em;}#sk-container-id-1 div.sk-estimator:hover {background-color: #d4ebff;}#sk-container-id-1 div.sk-parallel-item::after {content: \"\";width: 100%;border-bottom: 1px solid gray;flex-grow: 1;}#sk-container-id-1 div.sk-label:hover label.sk-toggleable__label {background-color: #d4ebff;}#sk-container-id-1 div.sk-serial::before {content: \"\";position: absolute;border-left: 1px solid gray;box-sizing: border-box;top: 0;bottom: 0;left: 50%;z-index: 0;}#sk-container-id-1 div.sk-serial {display: flex;flex-direction: column;align-items: center;background-color: white;padding-right: 0.2em;padding-left: 0.2em;position: relative;}#sk-container-id-1 div.sk-item {position: relative;z-index: 1;}#sk-container-id-1 div.sk-parallel {display: flex;align-items: stretch;justify-content: center;background-color: white;position: relative;}#sk-container-id-1 div.sk-item::before, #sk-container-id-1 div.sk-parallel-item::before {content: \"\";position: absolute;border-left: 1px solid gray;box-sizing: border-box;top: 0;bottom: 0;left: 50%;z-index: -1;}#sk-container-id-1 div.sk-parallel-item {display: flex;flex-direction: column;z-index: 1;position: relative;background-color: white;}#sk-container-id-1 div.sk-parallel-item:first-child::after {align-self: flex-end;width: 50%;}#sk-container-id-1 div.sk-parallel-item:last-child::after {align-self: flex-start;width: 50%;}#sk-container-id-1 div.sk-parallel-item:only-child::after {width: 0;}#sk-container-id-1 div.sk-dashed-wrapped {border: 1px dashed gray;margin: 0 0.4em 0.5em 0.4em;box-sizing: border-box;padding-bottom: 0.4em;background-color: white;}#sk-container-id-1 div.sk-label label {font-family: monospace;font-weight: bold;display: inline-block;line-height: 1.2em;}#sk-container-id-1 div.sk-label-container {text-align: center;}#sk-container-id-1 div.sk-container {/* jupyter's `normalize.less` sets `[hidden] { display: none; }` but bootstrap.min.css set `[hidden] { display: none !important; }` so we also need the `!important` here to be able to override the default hidden behavior on the sphinx rendered scikit-learn.org. See: https://github.com/scikit-learn/scikit-learn/issues/21755 */display: inline-block !important;position: relative;}#sk-container-id-1 div.sk-text-repr-fallback {display: none;}</style><div id=\"sk-container-id-1\" class=\"sk-top-container\"><div class=\"sk-text-repr-fallback\"><pre>GridSearchCV(cv=KFold(n_splits=5, random_state=42, shuffle=True),\n",
       "             estimator=RandomForestClassifier(),\n",
       "             param_grid={&#x27;criterion&#x27;: [&#x27;entropy&#x27;],\n",
       "                         &#x27;max_depth&#x27;: [None, 2, 5, 10], &#x27;n_estimators&#x27;: [100]},\n",
       "             refit=&#x27;f1&#x27;, return_train_score=True,\n",
       "             scoring={&#x27;accuracy&#x27;: make_scorer(accuracy_score),\n",
       "                      &#x27;f1&#x27;: make_scorer(f1_score),\n",
       "                      &#x27;precision&#x27;: make_scorer(precision_score),\n",
       "                      &#x27;recall&#x27;: make_scorer(recall_score)})</pre><b>In a Jupyter environment, please rerun this cell to show the HTML representation or trust the notebook. <br />On GitHub, the HTML representation is unable to render, please try loading this page with nbviewer.org.</b></div><div class=\"sk-container\" hidden><div class=\"sk-item sk-dashed-wrapped\"><div class=\"sk-label-container\"><div class=\"sk-label sk-toggleable\"><input class=\"sk-toggleable__control sk-hidden--visually\" id=\"sk-estimator-id-1\" type=\"checkbox\" ><label for=\"sk-estimator-id-1\" class=\"sk-toggleable__label sk-toggleable__label-arrow\">GridSearchCV</label><div class=\"sk-toggleable__content\"><pre>GridSearchCV(cv=KFold(n_splits=5, random_state=42, shuffle=True),\n",
       "             estimator=RandomForestClassifier(),\n",
       "             param_grid={&#x27;criterion&#x27;: [&#x27;entropy&#x27;],\n",
       "                         &#x27;max_depth&#x27;: [None, 2, 5, 10], &#x27;n_estimators&#x27;: [100]},\n",
       "             refit=&#x27;f1&#x27;, return_train_score=True,\n",
       "             scoring={&#x27;accuracy&#x27;: make_scorer(accuracy_score),\n",
       "                      &#x27;f1&#x27;: make_scorer(f1_score),\n",
       "                      &#x27;precision&#x27;: make_scorer(precision_score),\n",
       "                      &#x27;recall&#x27;: make_scorer(recall_score)})</pre></div></div></div><div class=\"sk-parallel\"><div class=\"sk-parallel-item\"><div class=\"sk-item\"><div class=\"sk-label-container\"><div class=\"sk-label sk-toggleable\"><input class=\"sk-toggleable__control sk-hidden--visually\" id=\"sk-estimator-id-2\" type=\"checkbox\" ><label for=\"sk-estimator-id-2\" class=\"sk-toggleable__label sk-toggleable__label-arrow\">estimator: RandomForestClassifier</label><div class=\"sk-toggleable__content\"><pre>RandomForestClassifier()</pre></div></div></div><div class=\"sk-serial\"><div class=\"sk-item\"><div class=\"sk-estimator sk-toggleable\"><input class=\"sk-toggleable__control sk-hidden--visually\" id=\"sk-estimator-id-3\" type=\"checkbox\" ><label for=\"sk-estimator-id-3\" class=\"sk-toggleable__label sk-toggleable__label-arrow\">RandomForestClassifier</label><div class=\"sk-toggleable__content\"><pre>RandomForestClassifier()</pre></div></div></div></div></div></div></div></div></div></div>"
      ],
      "text/plain": [
       "GridSearchCV(cv=KFold(n_splits=5, random_state=42, shuffle=True),\n",
       "             estimator=RandomForestClassifier(),\n",
       "             param_grid={'criterion': ['entropy'],\n",
       "                         'max_depth': [None, 2, 5, 10], 'n_estimators': [100]},\n",
       "             refit='f1', return_train_score=True,\n",
       "             scoring={'accuracy': make_scorer(accuracy_score),\n",
       "                      'f1': make_scorer(f1_score),\n",
       "                      'precision': make_scorer(precision_score),\n",
       "                      'recall': make_scorer(recall_score)})"
      ]
     },
     "execution_count": 13,
     "metadata": {},
     "output_type": "execute_result"
    }
   ],
   "source": [
    "splitter = KFold(n_splits = 5, shuffle = True, random_state = 42)\n",
    "metrica = {'accuracy' :make_scorer(accuracy_score),\n",
    "               'recall'   :make_scorer(recall_score),\n",
    "               'precision':make_scorer(precision_score),\n",
    "               'f1'       :make_scorer(f1_score)}\n",
    "\n",
    "param_grid={'max_depth':[None,2,5, 10],'criterion':['entropy'],'n_estimators':[100]}\n",
    "\n",
    "\n",
    "LR = RandomForestClassifier()\n",
    "\n",
    "\n",
    "grid_LR = GridSearchCV(estimator = LR,\n",
    "                           param_grid = param_grid,\n",
    "                           scoring = metrica,\n",
    "                           cv = splitter,\n",
    "                           refit = 'f1',return_train_score = True)\n",
    "\n",
    "grid_LR.fit(X_train, y_train) # aplicação do processo do GridSearch"
   ]
  },
  {
   "cell_type": "code",
   "execution_count": 14,
   "id": "9910b625",
   "metadata": {},
   "outputs": [
    {
     "data": {
      "text/plain": [
       "{'criterion': 'entropy', 'max_depth': None, 'n_estimators': 100}"
      ]
     },
     "execution_count": 14,
     "metadata": {},
     "output_type": "execute_result"
    }
   ],
   "source": [
    "grid_LR.best_params_"
   ]
  },
  {
   "cell_type": "code",
   "execution_count": 15,
   "id": "c889f1a2",
   "metadata": {},
   "outputs": [
    {
     "data": {
      "text/plain": [
       "0.9974595782431512"
      ]
     },
     "execution_count": 15,
     "metadata": {},
     "output_type": "execute_result"
    }
   ],
   "source": [
    "grid_LR.best_score_"
   ]
  },
  {
   "cell_type": "code",
   "execution_count": 16,
   "id": "94e92127",
   "metadata": {},
   "outputs": [],
   "source": [
    "Teste_LR = pd.DataFrame(grid_LR.cv_results_)"
   ]
  },
  {
   "cell_type": "code",
   "execution_count": 17,
   "id": "e8e630c2",
   "metadata": {},
   "outputs": [
    {
     "data": {
      "text/html": [
       "<div>\n",
       "<style scoped>\n",
       "    .dataframe tbody tr th:only-of-type {\n",
       "        vertical-align: middle;\n",
       "    }\n",
       "\n",
       "    .dataframe tbody tr th {\n",
       "        vertical-align: top;\n",
       "    }\n",
       "\n",
       "    .dataframe thead th {\n",
       "        text-align: right;\n",
       "    }\n",
       "</style>\n",
       "<table border=\"1\" class=\"dataframe\">\n",
       "  <thead>\n",
       "    <tr style=\"text-align: right;\">\n",
       "      <th></th>\n",
       "      <th>mean_fit_time</th>\n",
       "      <th>std_fit_time</th>\n",
       "      <th>mean_score_time</th>\n",
       "      <th>std_score_time</th>\n",
       "      <th>param_criterion</th>\n",
       "      <th>param_max_depth</th>\n",
       "      <th>param_n_estimators</th>\n",
       "      <th>params</th>\n",
       "      <th>split0_test_accuracy</th>\n",
       "      <th>split1_test_accuracy</th>\n",
       "      <th>...</th>\n",
       "      <th>mean_test_f1</th>\n",
       "      <th>std_test_f1</th>\n",
       "      <th>rank_test_f1</th>\n",
       "      <th>split0_train_f1</th>\n",
       "      <th>split1_train_f1</th>\n",
       "      <th>split2_train_f1</th>\n",
       "      <th>split3_train_f1</th>\n",
       "      <th>split4_train_f1</th>\n",
       "      <th>mean_train_f1</th>\n",
       "      <th>std_train_f1</th>\n",
       "    </tr>\n",
       "  </thead>\n",
       "  <tbody>\n",
       "    <tr>\n",
       "      <th>0</th>\n",
       "      <td>472.723457</td>\n",
       "      <td>14.284588</td>\n",
       "      <td>2.261337</td>\n",
       "      <td>0.138352</td>\n",
       "      <td>entropy</td>\n",
       "      <td>None</td>\n",
       "      <td>100</td>\n",
       "      <td>{'criterion': 'entropy', 'max_depth': None, 'n...</td>\n",
       "      <td>0.997483</td>\n",
       "      <td>0.997505</td>\n",
       "      <td>...</td>\n",
       "      <td>0.997460</td>\n",
       "      <td>0.000078</td>\n",
       "      <td>1</td>\n",
       "      <td>1.000000</td>\n",
       "      <td>1.000000</td>\n",
       "      <td>1.000000</td>\n",
       "      <td>1.000000</td>\n",
       "      <td>1.000000</td>\n",
       "      <td>1.000000</td>\n",
       "      <td>0.000000</td>\n",
       "    </tr>\n",
       "    <tr>\n",
       "      <th>1</th>\n",
       "      <td>86.466187</td>\n",
       "      <td>0.722396</td>\n",
       "      <td>0.951154</td>\n",
       "      <td>0.061039</td>\n",
       "      <td>entropy</td>\n",
       "      <td>2</td>\n",
       "      <td>100</td>\n",
       "      <td>{'criterion': 'entropy', 'max_depth': 2, 'n_es...</td>\n",
       "      <td>0.912355</td>\n",
       "      <td>0.912542</td>\n",
       "      <td>...</td>\n",
       "      <td>0.906057</td>\n",
       "      <td>0.002282</td>\n",
       "      <td>4</td>\n",
       "      <td>0.907255</td>\n",
       "      <td>0.908087</td>\n",
       "      <td>0.903230</td>\n",
       "      <td>0.904217</td>\n",
       "      <td>0.908322</td>\n",
       "      <td>0.906222</td>\n",
       "      <td>0.002094</td>\n",
       "    </tr>\n",
       "    <tr>\n",
       "      <th>2</th>\n",
       "      <td>185.081857</td>\n",
       "      <td>11.345431</td>\n",
       "      <td>1.166843</td>\n",
       "      <td>0.115632</td>\n",
       "      <td>entropy</td>\n",
       "      <td>5</td>\n",
       "      <td>100</td>\n",
       "      <td>{'criterion': 'entropy', 'max_depth': 5, 'n_es...</td>\n",
       "      <td>0.938789</td>\n",
       "      <td>0.936932</td>\n",
       "      <td>...</td>\n",
       "      <td>0.935942</td>\n",
       "      <td>0.002011</td>\n",
       "      <td>3</td>\n",
       "      <td>0.936235</td>\n",
       "      <td>0.935354</td>\n",
       "      <td>0.936435</td>\n",
       "      <td>0.934572</td>\n",
       "      <td>0.938205</td>\n",
       "      <td>0.936160</td>\n",
       "      <td>0.001219</td>\n",
       "    </tr>\n",
       "    <tr>\n",
       "      <th>3</th>\n",
       "      <td>311.840335</td>\n",
       "      <td>9.704976</td>\n",
       "      <td>1.467965</td>\n",
       "      <td>0.098578</td>\n",
       "      <td>entropy</td>\n",
       "      <td>10</td>\n",
       "      <td>100</td>\n",
       "      <td>{'criterion': 'entropy', 'max_depth': 10, 'n_e...</td>\n",
       "      <td>0.962970</td>\n",
       "      <td>0.962674</td>\n",
       "      <td>...</td>\n",
       "      <td>0.961776</td>\n",
       "      <td>0.000479</td>\n",
       "      <td>2</td>\n",
       "      <td>0.963165</td>\n",
       "      <td>0.963389</td>\n",
       "      <td>0.963563</td>\n",
       "      <td>0.962705</td>\n",
       "      <td>0.963390</td>\n",
       "      <td>0.963243</td>\n",
       "      <td>0.000297</td>\n",
       "    </tr>\n",
       "  </tbody>\n",
       "</table>\n",
       "<p>4 rows × 68 columns</p>\n",
       "</div>"
      ],
      "text/plain": [
       "   mean_fit_time  std_fit_time  mean_score_time  std_score_time  \\\n",
       "0     472.723457     14.284588         2.261337        0.138352   \n",
       "1      86.466187      0.722396         0.951154        0.061039   \n",
       "2     185.081857     11.345431         1.166843        0.115632   \n",
       "3     311.840335      9.704976         1.467965        0.098578   \n",
       "\n",
       "  param_criterion param_max_depth param_n_estimators  \\\n",
       "0         entropy            None                100   \n",
       "1         entropy               2                100   \n",
       "2         entropy               5                100   \n",
       "3         entropy              10                100   \n",
       "\n",
       "                                              params  split0_test_accuracy  \\\n",
       "0  {'criterion': 'entropy', 'max_depth': None, 'n...              0.997483   \n",
       "1  {'criterion': 'entropy', 'max_depth': 2, 'n_es...              0.912355   \n",
       "2  {'criterion': 'entropy', 'max_depth': 5, 'n_es...              0.938789   \n",
       "3  {'criterion': 'entropy', 'max_depth': 10, 'n_e...              0.962970   \n",
       "\n",
       "   split1_test_accuracy  ...  mean_test_f1  std_test_f1  rank_test_f1  \\\n",
       "0              0.997505  ...      0.997460     0.000078             1   \n",
       "1              0.912542  ...      0.906057     0.002282             4   \n",
       "2              0.936932  ...      0.935942     0.002011             3   \n",
       "3              0.962674  ...      0.961776     0.000479             2   \n",
       "\n",
       "   split0_train_f1  split1_train_f1  split2_train_f1  split3_train_f1  \\\n",
       "0         1.000000         1.000000         1.000000         1.000000   \n",
       "1         0.907255         0.908087         0.903230         0.904217   \n",
       "2         0.936235         0.935354         0.936435         0.934572   \n",
       "3         0.963165         0.963389         0.963563         0.962705   \n",
       "\n",
       "   split4_train_f1  mean_train_f1  std_train_f1  \n",
       "0         1.000000       1.000000      0.000000  \n",
       "1         0.908322       0.906222      0.002094  \n",
       "2         0.938205       0.936160      0.001219  \n",
       "3         0.963390       0.963243      0.000297  \n",
       "\n",
       "[4 rows x 68 columns]"
      ]
     },
     "execution_count": 17,
     "metadata": {},
     "output_type": "execute_result"
    }
   ],
   "source": [
    "Teste_LR"
   ]
  },
  {
   "cell_type": "code",
   "execution_count": 18,
   "id": "9cad8b87",
   "metadata": {},
   "outputs": [],
   "source": [
    "Treino = Teste_LR[['params','mean_train_accuracy', 'std_train_accuracy',\n",
    "                  'mean_train_recall', 'std_train_recall','mean_train_precision', 'std_train_precision',\n",
    "                  'mean_train_f1', 'std_train_f1']]"
   ]
  },
  {
   "cell_type": "code",
   "execution_count": 19,
   "id": "e8f1b0b4",
   "metadata": {},
   "outputs": [],
   "source": [
    "Teste = Teste_LR[['params','mean_test_accuracy','std_test_accuracy','mean_test_recall','std_test_recall',\n",
    "          'mean_test_precision','std_test_precision',\n",
    "          'mean_test_f1','std_test_f1','mean_fit_time','std_fit_time',\n",
    " 'mean_score_time',\n",
    " 'std_score_time']]"
   ]
  },
  {
   "cell_type": "code",
   "execution_count": 20,
   "id": "206e7a3d",
   "metadata": {},
   "outputs": [
    {
     "data": {
      "text/html": [
       "<div>\n",
       "<style scoped>\n",
       "    .dataframe tbody tr th:only-of-type {\n",
       "        vertical-align: middle;\n",
       "    }\n",
       "\n",
       "    .dataframe tbody tr th {\n",
       "        vertical-align: top;\n",
       "    }\n",
       "\n",
       "    .dataframe thead th {\n",
       "        text-align: right;\n",
       "    }\n",
       "</style>\n",
       "<table border=\"1\" class=\"dataframe\">\n",
       "  <thead>\n",
       "    <tr style=\"text-align: right;\">\n",
       "      <th></th>\n",
       "      <th>params</th>\n",
       "      <th>mean_train_accuracy</th>\n",
       "      <th>std_train_accuracy</th>\n",
       "      <th>mean_train_recall</th>\n",
       "      <th>std_train_recall</th>\n",
       "      <th>mean_train_precision</th>\n",
       "      <th>std_train_precision</th>\n",
       "      <th>mean_train_f1</th>\n",
       "      <th>std_train_f1</th>\n",
       "    </tr>\n",
       "  </thead>\n",
       "  <tbody>\n",
       "    <tr>\n",
       "      <th>0</th>\n",
       "      <td>{'criterion': 'entropy', 'max_depth': None, 'n...</td>\n",
       "      <td>1.000000</td>\n",
       "      <td>0.000000</td>\n",
       "      <td>1.000000</td>\n",
       "      <td>0.000000</td>\n",
       "      <td>1.000000</td>\n",
       "      <td>0.000000</td>\n",
       "      <td>1.000000</td>\n",
       "      <td>0.000000</td>\n",
       "    </tr>\n",
       "    <tr>\n",
       "      <th>1</th>\n",
       "      <td>{'criterion': 'entropy', 'max_depth': 2, 'n_es...</td>\n",
       "      <td>0.911452</td>\n",
       "      <td>0.001619</td>\n",
       "      <td>0.856197</td>\n",
       "      <td>0.005220</td>\n",
       "      <td>0.962490</td>\n",
       "      <td>0.002253</td>\n",
       "      <td>0.906222</td>\n",
       "      <td>0.002094</td>\n",
       "    </tr>\n",
       "    <tr>\n",
       "      <th>2</th>\n",
       "      <td>{'criterion': 'entropy', 'max_depth': 5, 'n_es...</td>\n",
       "      <td>0.938491</td>\n",
       "      <td>0.001076</td>\n",
       "      <td>0.902462</td>\n",
       "      <td>0.002448</td>\n",
       "      <td>0.972479</td>\n",
       "      <td>0.001361</td>\n",
       "      <td>0.936160</td>\n",
       "      <td>0.001219</td>\n",
       "    </tr>\n",
       "    <tr>\n",
       "      <th>3</th>\n",
       "      <td>{'criterion': 'entropy', 'max_depth': 10, 'n_e...</td>\n",
       "      <td>0.964073</td>\n",
       "      <td>0.000276</td>\n",
       "      <td>0.941961</td>\n",
       "      <td>0.000565</td>\n",
       "      <td>0.985508</td>\n",
       "      <td>0.000372</td>\n",
       "      <td>0.963243</td>\n",
       "      <td>0.000297</td>\n",
       "    </tr>\n",
       "  </tbody>\n",
       "</table>\n",
       "</div>"
      ],
      "text/plain": [
       "                                              params  mean_train_accuracy  \\\n",
       "0  {'criterion': 'entropy', 'max_depth': None, 'n...             1.000000   \n",
       "1  {'criterion': 'entropy', 'max_depth': 2, 'n_es...             0.911452   \n",
       "2  {'criterion': 'entropy', 'max_depth': 5, 'n_es...             0.938491   \n",
       "3  {'criterion': 'entropy', 'max_depth': 10, 'n_e...             0.964073   \n",
       "\n",
       "   std_train_accuracy  mean_train_recall  std_train_recall  \\\n",
       "0            0.000000           1.000000          0.000000   \n",
       "1            0.001619           0.856197          0.005220   \n",
       "2            0.001076           0.902462          0.002448   \n",
       "3            0.000276           0.941961          0.000565   \n",
       "\n",
       "   mean_train_precision  std_train_precision  mean_train_f1  std_train_f1  \n",
       "0              1.000000             0.000000       1.000000      0.000000  \n",
       "1              0.962490             0.002253       0.906222      0.002094  \n",
       "2              0.972479             0.001361       0.936160      0.001219  \n",
       "3              0.985508             0.000372       0.963243      0.000297  "
      ]
     },
     "execution_count": 20,
     "metadata": {},
     "output_type": "execute_result"
    }
   ],
   "source": [
    "Treino"
   ]
  },
  {
   "cell_type": "code",
   "execution_count": 21,
   "id": "6bbd737c",
   "metadata": {},
   "outputs": [
    {
     "data": {
      "text/html": [
       "<div>\n",
       "<style scoped>\n",
       "    .dataframe tbody tr th:only-of-type {\n",
       "        vertical-align: middle;\n",
       "    }\n",
       "\n",
       "    .dataframe tbody tr th {\n",
       "        vertical-align: top;\n",
       "    }\n",
       "\n",
       "    .dataframe thead th {\n",
       "        text-align: right;\n",
       "    }\n",
       "</style>\n",
       "<table border=\"1\" class=\"dataframe\">\n",
       "  <thead>\n",
       "    <tr style=\"text-align: right;\">\n",
       "      <th></th>\n",
       "      <th>params</th>\n",
       "      <th>mean_test_accuracy</th>\n",
       "      <th>std_test_accuracy</th>\n",
       "      <th>mean_test_recall</th>\n",
       "      <th>std_test_recall</th>\n",
       "      <th>mean_test_precision</th>\n",
       "      <th>std_test_precision</th>\n",
       "      <th>mean_test_f1</th>\n",
       "      <th>std_test_f1</th>\n",
       "      <th>mean_fit_time</th>\n",
       "      <th>std_fit_time</th>\n",
       "      <th>mean_score_time</th>\n",
       "      <th>std_score_time</th>\n",
       "    </tr>\n",
       "  </thead>\n",
       "  <tbody>\n",
       "    <tr>\n",
       "      <th>0</th>\n",
       "      <td>{'criterion': 'entropy', 'max_depth': None, 'n...</td>\n",
       "      <td>0.997459</td>\n",
       "      <td>0.000079</td>\n",
       "      <td>0.998249</td>\n",
       "      <td>0.000106</td>\n",
       "      <td>0.996671</td>\n",
       "      <td>0.000108</td>\n",
       "      <td>0.997460</td>\n",
       "      <td>0.000078</td>\n",
       "      <td>472.723457</td>\n",
       "      <td>14.284588</td>\n",
       "      <td>2.261337</td>\n",
       "      <td>0.138352</td>\n",
       "    </tr>\n",
       "    <tr>\n",
       "      <th>1</th>\n",
       "      <td>{'criterion': 'entropy', 'max_depth': 2, 'n_es...</td>\n",
       "      <td>0.911298</td>\n",
       "      <td>0.001994</td>\n",
       "      <td>0.855995</td>\n",
       "      <td>0.005592</td>\n",
       "      <td>0.962377</td>\n",
       "      <td>0.002211</td>\n",
       "      <td>0.906057</td>\n",
       "      <td>0.002282</td>\n",
       "      <td>86.466187</td>\n",
       "      <td>0.722396</td>\n",
       "      <td>0.951154</td>\n",
       "      <td>0.061039</td>\n",
       "    </tr>\n",
       "    <tr>\n",
       "      <th>2</th>\n",
       "      <td>{'criterion': 'entropy', 'max_depth': 5, 'n_es...</td>\n",
       "      <td>0.938281</td>\n",
       "      <td>0.001940</td>\n",
       "      <td>0.902215</td>\n",
       "      <td>0.004212</td>\n",
       "      <td>0.972304</td>\n",
       "      <td>0.001514</td>\n",
       "      <td>0.935942</td>\n",
       "      <td>0.002011</td>\n",
       "      <td>185.081857</td>\n",
       "      <td>11.345431</td>\n",
       "      <td>1.166843</td>\n",
       "      <td>0.115632</td>\n",
       "    </tr>\n",
       "    <tr>\n",
       "      <th>3</th>\n",
       "      <td>{'criterion': 'entropy', 'max_depth': 10, 'n_e...</td>\n",
       "      <td>0.962634</td>\n",
       "      <td>0.000530</td>\n",
       "      <td>0.940633</td>\n",
       "      <td>0.001287</td>\n",
       "      <td>0.983892</td>\n",
       "      <td>0.000673</td>\n",
       "      <td>0.961776</td>\n",
       "      <td>0.000479</td>\n",
       "      <td>311.840335</td>\n",
       "      <td>9.704976</td>\n",
       "      <td>1.467965</td>\n",
       "      <td>0.098578</td>\n",
       "    </tr>\n",
       "  </tbody>\n",
       "</table>\n",
       "</div>"
      ],
      "text/plain": [
       "                                              params  mean_test_accuracy  \\\n",
       "0  {'criterion': 'entropy', 'max_depth': None, 'n...            0.997459   \n",
       "1  {'criterion': 'entropy', 'max_depth': 2, 'n_es...            0.911298   \n",
       "2  {'criterion': 'entropy', 'max_depth': 5, 'n_es...            0.938281   \n",
       "3  {'criterion': 'entropy', 'max_depth': 10, 'n_e...            0.962634   \n",
       "\n",
       "   std_test_accuracy  mean_test_recall  std_test_recall  mean_test_precision  \\\n",
       "0           0.000079          0.998249         0.000106             0.996671   \n",
       "1           0.001994          0.855995         0.005592             0.962377   \n",
       "2           0.001940          0.902215         0.004212             0.972304   \n",
       "3           0.000530          0.940633         0.001287             0.983892   \n",
       "\n",
       "   std_test_precision  mean_test_f1  std_test_f1  mean_fit_time  std_fit_time  \\\n",
       "0            0.000108      0.997460     0.000078     472.723457     14.284588   \n",
       "1            0.002211      0.906057     0.002282      86.466187      0.722396   \n",
       "2            0.001514      0.935942     0.002011     185.081857     11.345431   \n",
       "3            0.000673      0.961776     0.000479     311.840335      9.704976   \n",
       "\n",
       "   mean_score_time  std_score_time  \n",
       "0         2.261337        0.138352  \n",
       "1         0.951154        0.061039  \n",
       "2         1.166843        0.115632  \n",
       "3         1.467965        0.098578  "
      ]
     },
     "execution_count": 21,
     "metadata": {},
     "output_type": "execute_result"
    }
   ],
   "source": [
    "Teste"
   ]
  },
  {
   "cell_type": "code",
   "execution_count": 22,
   "id": "7e4d61e3",
   "metadata": {},
   "outputs": [],
   "source": [
    "Treino.to_csv('Treino2_RF')"
   ]
  },
  {
   "cell_type": "code",
   "execution_count": 23,
   "id": "243f0968",
   "metadata": {},
   "outputs": [],
   "source": [
    "Teste.to_csv('Teste2_RF')"
   ]
  },
  {
   "cell_type": "code",
   "execution_count": 24,
   "id": "7dd2ae4c",
   "metadata": {},
   "outputs": [],
   "source": [
    "y_pred= grid_LR.predict(X_test)"
   ]
  },
  {
   "cell_type": "code",
   "execution_count": 25,
   "id": "0dfd7c70",
   "metadata": {},
   "outputs": [
    {
     "data": {
      "image/png": "[encoded data removed]",
      "text/plain": [
       "<Figure size 432x288 with 2 Axes>"
      ]
     },
     "metadata": {
      "needs_background": "light"
     },
     "output_type": "display_data"
    }
   ],
   "source": [
    "ConfusionMatrixDisplay(confusion_matrix=confusion_matrix(y_test, y_pred)).plot(cmap=\"Greys\")\n",
    "\n",
    "plt.show()"
   ]
  },
  {
   "cell_type": "code",
   "execution_count": null,
   "id": "e2d26187",
   "metadata": {},
   "outputs": [],
   "source": []
  }
 ],
 "metadata": {
  "kernelspec": {
   "display_name": "Python 3",
   "language": "python",
   "name": "python3"
  },
  "language_info": {
   "codemirror_mode": {
    "name": "ipython",
    "version": 3
   },
   "file_extension": ".py",
   "mimetype": "text/x-python",
   "name": "python",
   "nbconvert_exporter": "python",
   "pygments_lexer": "ipython3",
   "version": "3.8.8"
  }
 },
 "nbformat": 4,
 "nbformat_minor": 5
}
